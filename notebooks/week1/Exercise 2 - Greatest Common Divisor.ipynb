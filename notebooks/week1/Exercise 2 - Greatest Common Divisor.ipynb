{
 "metadata": {
  "name": "",
  "signature": "sha256:ff03f727a27634fbe4f8481f5a2bef488b3483ef24f2a76aa635c203c3e96234"
 },
 "nbformat": 3,
 "nbformat_minor": 0,
 "worksheets": [
  {
   "cells": [
    {
     "cell_type": "markdown",
     "metadata": {},
     "source": [
      "The **greatest common divisor (GCD)** of two or more integers is the largest positive integer that divides the numbers without a remainder. For example, the GCD of 8 and 12 is 4. (Taken from Wikipedia.)"
     ]
    },
    {
     "cell_type": "markdown",
     "metadata": {},
     "source": [
      "One algorithm to figure out the GCD of two numbers is the Euclidean algorithm. It is a pretty simple algorithm.\n",
      "\n",
      "\\begin{align}\n",
      "\\gcd(a, 0) &= a \\\\\n",
      "\\gcd(a, b) &= \\gcd(b, a \\bmod b)\n",
      "\\end{align}"
     ]
    },
    {
     "cell_type": "markdown",
     "metadata": {},
     "source": [
      "Implement a `gcd` function in Python and then find the GCD of 123456 and 654321."
     ]
    },
    {
     "cell_type": "code",
     "collapsed": false,
     "input": [
      "def iterative_gcd(a, b):\n",
      "    counter = 1\n",
      "    best_cd = 1\n",
      "    while counter < a:\n",
      "        if b % counter == 0 and a % counter == 0:\n",
      "            best_cd = counter\n",
      "        counter += 1\n",
      "    return best_cd"
     ],
     "language": "python",
     "metadata": {},
     "outputs": [],
     "prompt_number": 2
    },
    {
     "cell_type": "code",
     "collapsed": false,
     "input": [
      "iterative_gcd(8, 12)"
     ],
     "language": "python",
     "metadata": {},
     "outputs": [
      {
       "metadata": {},
       "output_type": "pyout",
       "prompt_number": 3,
       "text": [
        "4"
       ]
      }
     ],
     "prompt_number": 3
    },
    {
     "cell_type": "code",
     "collapsed": false,
     "input": [
      "iterative_gcd(654321, 123456)"
     ],
     "language": "python",
     "metadata": {},
     "outputs": [
      {
       "metadata": {},
       "output_type": "pyout",
       "prompt_number": 4,
       "text": [
        "3"
       ]
      }
     ],
     "prompt_number": 4
    },
    {
     "cell_type": "code",
     "collapsed": false,
     "input": [
      "def iterative_gcd2(a, b):\n",
      "    while b != 0:\n",
      "        a, b = b, a % b        \n",
      "    return a"
     ],
     "language": "python",
     "metadata": {},
     "outputs": [],
     "prompt_number": 7
    },
    {
     "cell_type": "code",
     "collapsed": false,
     "input": [
      "iterative_gcd2(654321, 123456)"
     ],
     "language": "python",
     "metadata": {},
     "outputs": [
      {
       "metadata": {},
       "output_type": "pyout",
       "prompt_number": 8,
       "text": [
        "3"
       ]
      }
     ],
     "prompt_number": 8
    },
    {
     "cell_type": "code",
     "collapsed": false,
     "input": [],
     "language": "python",
     "metadata": {},
     "outputs": []
    }
   ],
   "metadata": {}
  }
 ]
}