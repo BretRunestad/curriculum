{
 "metadata": {
  "name": "",
  "signature": "sha256:659aedc22878292cc6d10bfa1e3145af77d199638ef08cd53c60a346d50e8183"
 },
 "nbformat": 3,
 "nbformat_minor": 0,
 "worksheets": [
  {
   "cells": [
    {
     "cell_type": "markdown",
     "metadata": {},
     "source": [
      "Dictionaries are another type of sequence. They map keys to values, like a two-column table."
     ]
    },
    {
     "cell_type": "markdown",
     "metadata": {},
     "source": [
      "<table>\n",
      "    <tr>\n",
      "        <th>Key</th>\n",
      "        <th>Value</th>\n",
      "    </tr>\n",
      "    <tr>\n",
      "        <td>\"one\"</td>\n",
      "        <td>1</td>\n",
      "    </tr>\n",
      "    <tr>\n",
      "        <td>\"two\"</td>\n",
      "        <td>2</td>\n",
      "    </tr>\n",
      "    <tr>\n",
      "        <td>\"three\"</td>\n",
      "        <td>3</td>\n",
      "    </tr>\n",
      "</table>"
     ]
    },
    {
     "cell_type": "markdown",
     "metadata": {},
     "source": [
      "There are a lot of ways to create dictionaries."
     ]
    },
    {
     "cell_type": "code",
     "collapsed": false,
     "input": [
      "a = {'one': 1, 'two': 2, 'three': 3}\n",
      "b = dict(one=1, two=2, three=3)\n",
      "c = dict(zip(['one', 'two', 'three'], [1, 2, 3]))\n",
      "d = dict([('two', 2), ('one', 1), ('three', 3)])\n",
      "a == b == c == d"
     ],
     "language": "python",
     "metadata": {},
     "outputs": [
      {
       "metadata": {},
       "output_type": "pyout",
       "prompt_number": 2,
       "text": [
        "True"
       ]
      }
     ],
     "prompt_number": 2
    },
    {
     "cell_type": "markdown",
     "metadata": {},
     "source": [
      "As you'd expect, the values in dictionaries can be any object."
     ]
    },
    {
     "cell_type": "code",
     "collapsed": false,
     "input": [
      "{'Jordan': {'Homework 1': 92,\n",
      "            'Homework 2': 87},\n",
      " 'Gale': {'Homework 1': 88,\n",
      "          'Homework 2': 76},\n",
      " 'River': {'Homework 1': 85,\n",
      "           'Homework 2': 91}}"
     ],
     "language": "python",
     "metadata": {},
     "outputs": [
      {
       "metadata": {},
       "output_type": "pyout",
       "prompt_number": 3,
       "text": [
        "{'River': {'Homework 1': 85, 'Homework 2': 91},\n",
        " 'Jordan': {'Homework 1': 92, 'Homework 2': 87},\n",
        " 'Gale': {'Homework 1': 88, 'Homework 2': 76}}"
       ]
      }
     ],
     "prompt_number": 3
    },
    {
     "cell_type": "markdown",
     "metadata": {},
     "source": [
      "`zip` is a very useful function for helping to create dictionaries."
     ]
    },
    {
     "cell_type": "code",
     "collapsed": false,
     "input": [
      "help(zip)"
     ],
     "language": "python",
     "metadata": {},
     "outputs": [
      {
       "output_type": "stream",
       "stream": "stdout",
       "text": [
        "Help on class zip in module builtins:\n",
        "\n",
        "class zip(object)\n",
        " |  zip(iter1 [,iter2 [...]]) --> zip object\n",
        " |  \n",
        " |  Return a zip object whose .__next__() method returns a tuple where\n",
        " |  the i-th element comes from the i-th iterable argument.  The .__next__()\n",
        " |  method continues until the shortest iterable in the argument sequence\n",
        " |  is exhausted and then it raises StopIteration.\n",
        " |  \n",
        " |  Methods defined here:\n",
        " |  \n",
        " |  __getattribute__(self, name, /)\n",
        " |      Return getattr(self, name).\n",
        " |  \n",
        " |  __iter__(self, /)\n",
        " |      Implement iter(self).\n",
        " |  \n",
        " |  __new__(*args, **kwargs) from builtins.type\n",
        " |      Create and return a new object.  See help(type) for accurate signature.\n",
        " |  \n",
        " |  __next__(self, /)\n",
        " |      Implement next(self).\n",
        " |  \n",
        " |  __reduce__(...)\n",
        " |      Return state information for pickling.\n",
        "\n"
       ]
      }
     ],
     "prompt_number": 8
    },
    {
     "cell_type": "code",
     "collapsed": false,
     "input": [
      "zip(\"abcdef\", range(6))"
     ],
     "language": "python",
     "metadata": {},
     "outputs": [
      {
       "metadata": {},
       "output_type": "pyout",
       "prompt_number": 6,
       "text": [
        "<zip at 0x10d506c08>"
       ]
      }
     ],
     "prompt_number": 6
    },
    {
     "cell_type": "code",
     "collapsed": false,
     "input": [
      "list(zip(\"abcdef\", range(6)))"
     ],
     "language": "python",
     "metadata": {},
     "outputs": [
      {
       "metadata": {},
       "output_type": "pyout",
       "prompt_number": 10,
       "text": [
        "[('a', 0), ('b', 1), ('c', 2), ('d', 3), ('e', 4), ('f', 5)]"
       ]
      }
     ],
     "prompt_number": 10
    },
    {
     "cell_type": "code",
     "collapsed": false,
     "input": [
      "dict(zip(\"abcdef\", range(6)))"
     ],
     "language": "python",
     "metadata": {},
     "outputs": [
      {
       "metadata": {},
       "output_type": "pyout",
       "prompt_number": 11,
       "text": [
        "{'d': 3, 'b': 1, 'e': 4, 'f': 5, 'a': 0, 'c': 2}"
       ]
      }
     ],
     "prompt_number": 11
    },
    {
     "cell_type": "heading",
     "level": 2,
     "metadata": {},
     "source": [
      "Dictionary methods"
     ]
    },
    {
     "cell_type": "markdown",
     "metadata": {},
     "source": [
      "Dictionaries have the methods all sequences have, but they also have their own specific methods.\n",
      "\n",
      "We reference values in a dictionary using square brackets, just like we do with lists."
     ]
    },
    {
     "cell_type": "code",
     "collapsed": false,
     "input": [
      "student_roster = {'Jordan': {'Homework 1': 92,\n",
      "                             'Homework 2': 87},\n",
      "                  'Gale': {'Homework 1': 88,\n",
      "                           'Homework 2': 76},\n",
      "                  'River': {'Homework 1': 85,\n",
      "                            'Homework 2': 91}}"
     ],
     "language": "python",
     "metadata": {},
     "outputs": [],
     "prompt_number": 16
    },
    {
     "cell_type": "code",
     "collapsed": false,
     "input": [
      "student_roster['Jordan']"
     ],
     "language": "python",
     "metadata": {},
     "outputs": [
      {
       "metadata": {},
       "output_type": "pyout",
       "prompt_number": 17,
       "text": [
        "{'Homework 1': 92, 'Homework 2': 87}"
       ]
      }
     ],
     "prompt_number": 17
    },
    {
     "cell_type": "code",
     "collapsed": false,
     "input": [
      "student_roster['Jordan']['Homework 1']"
     ],
     "language": "python",
     "metadata": {},
     "outputs": [
      {
       "metadata": {},
       "output_type": "pyout",
       "prompt_number": 18,
       "text": [
        "92"
       ]
      }
     ],
     "prompt_number": 18
    },
    {
     "cell_type": "code",
     "collapsed": false,
     "input": [
      "student_roster['Peyton'] = {'Homework 1': 84,\n",
      "                            'Homework 2': 77}\n",
      "student_roster"
     ],
     "language": "python",
     "metadata": {},
     "outputs": [
      {
       "metadata": {},
       "output_type": "pyout",
       "prompt_number": 21,
       "text": [
        "{'Peyton': {'Homework 1': 84, 'Homework 2': 77},\n",
        " 'River': {'Homework 1': 85, 'Homework 2': 91},\n",
        " 'Jordan': {'Homework 1': 92, 'Homework 2': 87},\n",
        " 'Gale': {'Homework 1': 88, 'Homework 2': 76}}"
       ]
      }
     ],
     "prompt_number": 21
    },
    {
     "cell_type": "code",
     "collapsed": false,
     "input": [
      "del student_roster['Gale']\n",
      "student_roster"
     ],
     "language": "python",
     "metadata": {},
     "outputs": [
      {
       "metadata": {},
       "output_type": "pyout",
       "prompt_number": 22,
       "text": [
        "{'Peyton': {'Homework 1': 84, 'Homework 2': 77},\n",
        " 'River': {'Homework 1': 85, 'Homework 2': 91},\n",
        " 'Jordan': {'Homework 1': 92, 'Homework 2': 87}}"
       ]
      }
     ],
     "prompt_number": 22
    },
    {
     "cell_type": "code",
     "collapsed": false,
     "input": [
      "student_roster.keys()"
     ],
     "language": "python",
     "metadata": {},
     "outputs": [
      {
       "metadata": {},
       "output_type": "pyout",
       "prompt_number": 23,
       "text": [
        "dict_keys(['Peyton', 'River', 'Jordan'])"
       ]
      }
     ],
     "prompt_number": 23
    },
    {
     "cell_type": "code",
     "collapsed": false,
     "input": [
      "student_roster.values()"
     ],
     "language": "python",
     "metadata": {},
     "outputs": [
      {
       "metadata": {},
       "output_type": "pyout",
       "prompt_number": 24,
       "text": [
        "dict_values([{'Homework 1': 84, 'Homework 2': 77}, {'Homework 1': 85, 'Homework 2': 91}, {'Homework 1': 92, 'Homework 2': 87}])"
       ]
      }
     ],
     "prompt_number": 24
    },
    {
     "cell_type": "code",
     "collapsed": false,
     "input": [
      "student_roster.items()"
     ],
     "language": "python",
     "metadata": {},
     "outputs": [
      {
       "metadata": {},
       "output_type": "pyout",
       "prompt_number": 25,
       "text": [
        "dict_items([('Peyton', {'Homework 1': 84, 'Homework 2': 77}), ('River', {'Homework 1': 85, 'Homework 2': 91}), ('Jordan', {'Homework 1': 92, 'Homework 2': 87})])"
       ]
      }
     ],
     "prompt_number": 25
    },
    {
     "cell_type": "code",
     "collapsed": false,
     "input": [
      "student_roster.get('River')"
     ],
     "language": "python",
     "metadata": {},
     "outputs": [
      {
       "metadata": {},
       "output_type": "pyout",
       "prompt_number": 27,
       "text": [
        "{'Homework 1': 85, 'Homework 2': 91}"
       ]
      }
     ],
     "prompt_number": 27
    },
    {
     "cell_type": "code",
     "collapsed": false,
     "input": [
      "student_roster.get('Marion')"
     ],
     "language": "python",
     "metadata": {},
     "outputs": [],
     "prompt_number": 28
    },
    {
     "cell_type": "code",
     "collapsed": false,
     "input": [
      "# What's the difference between this and .get?\n",
      "student_roster['Marion']"
     ],
     "language": "python",
     "metadata": {},
     "outputs": [
      {
       "ename": "KeyError",
       "evalue": "'Marion'",
       "output_type": "pyerr",
       "traceback": [
        "\u001b[0;31m---------------------------------------------------------------------------\u001b[0m\n\u001b[0;31mKeyError\u001b[0m                                  Traceback (most recent call last)",
        "\u001b[0;32m<ipython-input-29-ba40fb338cda>\u001b[0m in \u001b[0;36m<module>\u001b[0;34m()\u001b[0m\n\u001b[1;32m      1\u001b[0m \u001b[0;31m# What's the difference between this and .get?\u001b[0m\u001b[0;34m\u001b[0m\u001b[0;34m\u001b[0m\u001b[0m\n\u001b[0;32m----> 2\u001b[0;31m \u001b[0mstudent_roster\u001b[0m\u001b[0;34m[\u001b[0m\u001b[0;34m'Marion'\u001b[0m\u001b[0;34m]\u001b[0m\u001b[0;34m\u001b[0m\u001b[0m\n\u001b[0m",
        "\u001b[0;31mKeyError\u001b[0m: 'Marion'"
       ]
      }
     ],
     "prompt_number": 29
    },
    {
     "cell_type": "code",
     "collapsed": false,
     "input": [
      "help(dict.get)"
     ],
     "language": "python",
     "metadata": {},
     "outputs": [
      {
       "output_type": "stream",
       "stream": "stdout",
       "text": [
        "Help on method_descriptor:\n",
        "\n",
        "get(...)\n",
        "    D.get(k[,d]) -> D[k] if k in D, else d.  d defaults to None.\n",
        "\n"
       ]
      }
     ],
     "prompt_number": 30
    },
    {
     "cell_type": "heading",
     "level": 2,
     "metadata": {},
     "source": [
      "Dictionaries and for loops"
     ]
    },
    {
     "cell_type": "markdown",
     "metadata": {},
     "source": [
      "How do dictionaries work with for loops?"
     ]
    },
    {
     "cell_type": "code",
     "collapsed": false,
     "input": [
      "for thing in student_roster:\n",
      "    print(thing)"
     ],
     "language": "python",
     "metadata": {},
     "outputs": [
      {
       "output_type": "stream",
       "stream": "stdout",
       "text": [
        "Peyton\n",
        "River\n",
        "Jordan\n"
       ]
      }
     ],
     "prompt_number": 31
    },
    {
     "cell_type": "markdown",
     "metadata": {},
     "source": [
      "That wasn't enough. How do we get the value?"
     ]
    },
    {
     "cell_type": "code",
     "collapsed": false,
     "input": [
      "for student in student_roster:\n",
      "    print(student, student_roster[student])"
     ],
     "language": "python",
     "metadata": {},
     "outputs": [
      {
       "output_type": "stream",
       "stream": "stdout",
       "text": [
        "Peyton {'Homework 1': 84, 'Homework 2': 77}\n",
        "River {'Homework 1': 85, 'Homework 2': 91}\n",
        "Jordan {'Homework 1': 92, 'Homework 2': 87}\n"
       ]
      }
     ],
     "prompt_number": 33
    },
    {
     "cell_type": "code",
     "collapsed": false,
     "input": [
      "# Much easier on the eyes\n",
      "for student, grades in student_roster.items():\n",
      "    print(student, grades)"
     ],
     "language": "python",
     "metadata": {},
     "outputs": [
      {
       "output_type": "stream",
       "stream": "stdout",
       "text": [
        "Peyton {'Homework 1': 84, 'Homework 2': 77}\n",
        "River {'Homework 1': 85, 'Homework 2': 91}\n",
        "Jordan {'Homework 1': 92, 'Homework 2': 87}\n"
       ]
      }
     ],
     "prompt_number": 35
    },
    {
     "cell_type": "code",
     "collapsed": false,
     "input": [],
     "language": "python",
     "metadata": {},
     "outputs": []
    }
   ],
   "metadata": {}
  }
 ]
}