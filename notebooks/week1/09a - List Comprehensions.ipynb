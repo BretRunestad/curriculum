{
 "metadata": {
  "name": "",
  "signature": "sha256:dcdff81d55c561329b45cc3dd0e27cbe4ce2ad7bb4af64a9ca32571fa90eb915"
 },
 "nbformat": 3,
 "nbformat_minor": 0,
 "worksheets": [
  {
   "cells": [
    {
     "cell_type": "code",
     "collapsed": false,
     "input": [
      "a_list = [9, 7, 12, -1, 18, 22]\n",
      "\n",
      "# Sort based on distance from the mean.\n",
      "def distance_from_mean(nums):\n",
      "    def distance(num):\n",
      "        return abs(num - sum(nums) / len(nums))\n",
      "    \n",
      "    return distance\n",
      "\n",
      "my_distance_from_mean = distance_from_mean(a_list)               \n",
      "sorted(a_list, key=my_distance_from_mean)\n",
      "\n",
      "print(a_list)\n",
      "print(sum(a_list) / len(a_list))\n",
      "list(map(my_distance_from_mean, a_list))"
     ],
     "language": "python",
     "metadata": {},
     "outputs": [
      {
       "output_type": "stream",
       "stream": "stdout",
       "text": [
        "[9, 7, 12, -1, 18, 22]\n",
        "11.166666666666666\n"
       ]
      },
      {
       "metadata": {},
       "output_type": "pyout",
       "prompt_number": 2,
       "text": [
        "[2.166666666666666,\n",
        " 4.166666666666666,\n",
        " 0.8333333333333339,\n",
        " 12.166666666666666,\n",
        " 6.833333333333334,\n",
        " 10.833333333333334]"
       ]
      }
     ],
     "prompt_number": 2
    },
    {
     "cell_type": "code",
     "collapsed": false,
     "input": [
      "# Using a for loop\n",
      "distances = []\n",
      "for num in a_list:\n",
      "    distances.append(my_distance_from_mean(num))\n",
      "print(distances)"
     ],
     "language": "python",
     "metadata": {},
     "outputs": [
      {
       "output_type": "stream",
       "stream": "stdout",
       "text": [
        "[2.166666666666666, 4.166666666666666, 0.8333333333333339, 12.166666666666666, 6.833333333333334, 10.833333333333334]\n"
       ]
      }
     ],
     "prompt_number": 3
    },
    {
     "cell_type": "code",
     "collapsed": false,
     "input": [
      "[num for num in a_list]"
     ],
     "language": "python",
     "metadata": {},
     "outputs": [
      {
       "metadata": {},
       "output_type": "pyout",
       "prompt_number": 4,
       "text": [
        "[9, 7, 12, -1, 18, 22]"
       ]
      }
     ],
     "prompt_number": 4
    },
    {
     "cell_type": "code",
     "collapsed": false,
     "input": [
      "[my_distance_from_mean(num) for num in a_list]"
     ],
     "language": "python",
     "metadata": {},
     "outputs": [
      {
       "metadata": {},
       "output_type": "pyout",
       "prompt_number": 5,
       "text": [
        "[2.166666666666666,\n",
        " 4.166666666666666,\n",
        " 0.8333333333333339,\n",
        " 12.166666666666666,\n",
        " 6.833333333333334,\n",
        " 10.833333333333334]"
       ]
      }
     ],
     "prompt_number": 5
    },
    {
     "cell_type": "code",
     "collapsed": false,
     "input": [
      "[num for num in a_list if num % 2 == 0]"
     ],
     "language": "python",
     "metadata": {},
     "outputs": [
      {
       "metadata": {},
       "output_type": "pyout",
       "prompt_number": 6,
       "text": [
        "[12, 18, 22]"
       ]
      }
     ],
     "prompt_number": 6
    },
    {
     "cell_type": "code",
     "collapsed": false,
     "input": [
      "[num for num in a_list if num > 0]"
     ],
     "language": "python",
     "metadata": {},
     "outputs": [
      {
       "metadata": {},
       "output_type": "pyout",
       "prompt_number": 7,
       "text": [
        "[9, 7, 12, 18, 22]"
       ]
      }
     ],
     "prompt_number": 7
    },
    {
     "cell_type": "code",
     "collapsed": false,
     "input": [
      "[big_dog for big_dog in a_list if big_dog > 0]"
     ],
     "language": "python",
     "metadata": {},
     "outputs": [
      {
       "metadata": {},
       "output_type": "pyout",
       "prompt_number": 9,
       "text": [
        "[9, 7, 12, 18, 22]"
       ]
      }
     ],
     "prompt_number": 9
    },
    {
     "cell_type": "code",
     "collapsed": false,
     "input": [
      "[big_dog + 1 for big_dog in a_list]"
     ],
     "language": "python",
     "metadata": {},
     "outputs": [
      {
       "metadata": {},
       "output_type": "pyout",
       "prompt_number": 10,
       "text": [
        "[10, 8, 13, 0, 19, 23]"
       ]
      }
     ],
     "prompt_number": 10
    },
    {
     "cell_type": "code",
     "collapsed": false,
     "input": [
      "a_list"
     ],
     "language": "python",
     "metadata": {},
     "outputs": [
      {
       "metadata": {},
       "output_type": "pyout",
       "prompt_number": 11,
       "text": [
        "[9, 7, 12, -1, 18, 22]"
       ]
      }
     ],
     "prompt_number": 11
    },
    {
     "cell_type": "code",
     "collapsed": false,
     "input": [],
     "language": "python",
     "metadata": {},
     "outputs": []
    }
   ],
   "metadata": {}
  }
 ]
}