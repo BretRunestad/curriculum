{
 "metadata": {
  "name": "",
  "signature": "sha256:71550df072cafd65573eaf3e18a275271ff97c0788f56ef4fad451d5efbe6a56"
 },
 "nbformat": 3,
 "nbformat_minor": 0,
 "worksheets": [
  {
   "cells": [
    {
     "cell_type": "markdown",
     "metadata": {},
     "source": [
      "`sorted()` takes an iterable object and returns a sorted list of the items in the iterable."
     ]
    },
    {
     "cell_type": "code",
     "collapsed": false,
     "input": [
      "a_list = [9, 7, 12, -1, 18, 22]\n",
      "a_tuple = (\"g\", \"a\", \"b\", \"z\", \"y\", \"m\")\n",
      "a_string = \"racecar\"\n",
      "a_sentence = \"\"\"You're never too old, and if you want to, as my mother said, you can do anything you want to, but you have to work at it.\"\"\""
     ],
     "language": "python",
     "metadata": {},
     "outputs": [],
     "prompt_number": 10
    },
    {
     "cell_type": "code",
     "collapsed": false,
     "input": [
      "sorted(a_list)"
     ],
     "language": "python",
     "metadata": {},
     "outputs": [
      {
       "metadata": {},
       "output_type": "pyout",
       "prompt_number": 11,
       "text": [
        "[-1, 7, 9, 12, 18, 22]"
       ]
      }
     ],
     "prompt_number": 11
    },
    {
     "cell_type": "code",
     "collapsed": false,
     "input": [
      "sorted(a_tuple)"
     ],
     "language": "python",
     "metadata": {},
     "outputs": [
      {
       "metadata": {},
       "output_type": "pyout",
       "prompt_number": 12,
       "text": [
        "['a', 'b', 'g', 'm', 'y', 'z']"
       ]
      }
     ],
     "prompt_number": 12
    },
    {
     "cell_type": "code",
     "collapsed": false,
     "input": [
      "sorted(a_string)"
     ],
     "language": "python",
     "metadata": {},
     "outputs": [
      {
       "metadata": {},
       "output_type": "pyout",
       "prompt_number": 13,
       "text": [
        "['a', 'a', 'c', 'c', 'e', 'r', 'r']"
       ]
      }
     ],
     "prompt_number": 13
    },
    {
     "cell_type": "markdown",
     "metadata": {},
     "source": [
      "What if we want to sort things in a different fashion? How does that work?"
     ]
    },
    {
     "cell_type": "code",
     "collapsed": false,
     "input": [
      "help(sorted)"
     ],
     "language": "python",
     "metadata": {},
     "outputs": [
      {
       "output_type": "stream",
       "stream": "stdout",
       "text": [
        "Help on built-in function sorted in module builtins:\n",
        "\n",
        "sorted(...)\n",
        "    sorted(iterable, key=None, reverse=False) --> new sorted list\n",
        "\n"
       ]
      }
     ],
     "prompt_number": 18
    },
    {
     "cell_type": "markdown",
     "metadata": {},
     "source": [
      "`reverse` makes sense. Let's try it."
     ]
    },
    {
     "cell_type": "code",
     "collapsed": false,
     "input": [
      "sorted(a_list, reverse=True)"
     ],
     "language": "python",
     "metadata": {},
     "outputs": [
      {
       "metadata": {},
       "output_type": "pyout",
       "prompt_number": 8,
       "text": [
        "[22, 18, 12, 9, 7, -1]"
       ]
      }
     ],
     "prompt_number": 8
    },
    {
     "cell_type": "markdown",
     "metadata": {},
     "source": [
      "What is `key`, though?\n",
      "\n",
      "`key` is a function used as an argument. The iterable will be sorted not on the order of its elements, but on the order of the results of its elements when `key` is called with each element as an argument."
     ]
    },
    {
     "cell_type": "code",
     "collapsed": false,
     "input": [
      "# Should sort the numbers based on their string value -- that is, alphanumerically.\n",
      "sorted(a_list, key=str)"
     ],
     "language": "python",
     "metadata": {},
     "outputs": [
      {
       "metadata": {},
       "output_type": "pyout",
       "prompt_number": 19,
       "text": [
        "[-1, 12, 18, 22, 7, 9]"
       ]
      }
     ],
     "prompt_number": 19
    },
    {
     "cell_type": "code",
     "collapsed": false,
     "input": [
      "# Bad sort -- uppercase letters are sorted before lowercase ones.\n",
      "print(sorted(a_sentence.split()))"
     ],
     "language": "python",
     "metadata": {},
     "outputs": [
      {
       "output_type": "stream",
       "stream": "stdout",
       "text": [
        "[\"You're\", 'and', 'anything', 'as', 'at', 'but', 'can', 'do', 'have', 'if', 'it.', 'mother', 'my', 'never', 'old,', 'said,', 'to', 'to,', 'to,', 'too', 'want', 'want', 'work', 'you', 'you', 'you', 'you']\n"
       ]
      }
     ],
     "prompt_number": 16
    },
    {
     "cell_type": "code",
     "collapsed": false,
     "input": [
      "# Fixed -- sorted based on each word lowercased.\n",
      "print(sorted(a_sentence.split(), key=str.lower))"
     ],
     "language": "python",
     "metadata": {},
     "outputs": [
      {
       "output_type": "stream",
       "stream": "stdout",
       "text": [
        "['and', 'anything', 'as', 'at', 'but', 'can', 'do', 'have', 'if', 'it.', 'mother', 'my', 'never', 'old,', 'said,', 'to', 'to,', 'to,', 'too', 'want', 'want', 'work', 'you', 'you', 'you', 'you', \"You're\"]\n"
       ]
      }
     ],
     "prompt_number": 20
    },
    {
     "cell_type": "markdown",
     "metadata": {},
     "source": [
      "Sometimes you need a function just for a sort or for another method. If it's a one-line function and you don't need it anywhere else, you can use `lambda`. `lambda` creates an _anonymous function_. It can only be one line long, and doesn't require a `return`."
     ]
    },
    {
     "cell_type": "code",
     "collapsed": false,
     "input": [
      "# Sort based on distance from the mean.\n",
      "sorted(a_list, key=lambda x: abs(x - sum(a_list) / len(a_list)))"
     ],
     "language": "python",
     "metadata": {},
     "outputs": [
      {
       "metadata": {},
       "output_type": "pyout",
       "prompt_number": 24,
       "text": [
        "[12, 9, 7, 18, 22, -1]"
       ]
      }
     ],
     "prompt_number": 24
    }
   ],
   "metadata": {}
  }
 ]
}