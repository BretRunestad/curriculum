{
 "metadata": {
  "name": "",
  "signature": "sha256:f23912fc2569111b6b0518f2ad61213b080a019a547baa90095b66c4c88ca5cf"
 },
 "nbformat": 3,
 "nbformat_minor": 0,
 "worksheets": [
  {
   "cells": [
    {
     "cell_type": "markdown",
     "metadata": {},
     "source": [
      "`sorted()` takes an iterable object and returns a sorted list of the items in the iterable."
     ]
    },
    {
     "cell_type": "code",
     "collapsed": false,
     "input": [
      "a_list = [9, 7, 12, -1, 18, 22]\n",
      "a_tuple = (\"g\", \"a\", \"b\", \"z\", \"y\", \"m\")\n",
      "a_string = \"racecar\"\n",
      "a_sentence = \"\"\"You're never too old, and if you want to, as my mother said, you can do anything you want to, but you have to work at it.\"\"\""
     ],
     "language": "python",
     "metadata": {},
     "outputs": [],
     "prompt_number": 10
    },
    {
     "cell_type": "code",
     "collapsed": false,
     "input": [
      "sorted(a_list)"
     ],
     "language": "python",
     "metadata": {},
     "outputs": [
      {
       "metadata": {},
       "output_type": "pyout",
       "prompt_number": 11,
       "text": [
        "[-1, 7, 9, 12, 18, 22]"
       ]
      }
     ],
     "prompt_number": 11
    },
    {
     "cell_type": "code",
     "collapsed": false,
     "input": [
      "sorted(a_tuple)"
     ],
     "language": "python",
     "metadata": {},
     "outputs": [
      {
       "metadata": {},
       "output_type": "pyout",
       "prompt_number": 12,
       "text": [
        "['a', 'b', 'g', 'm', 'y', 'z']"
       ]
      }
     ],
     "prompt_number": 12
    },
    {
     "cell_type": "code",
     "collapsed": false,
     "input": [
      "sorted(a_string)"
     ],
     "language": "python",
     "metadata": {},
     "outputs": [
      {
       "metadata": {},
       "output_type": "pyout",
       "prompt_number": 13,
       "text": [
        "['a', 'a', 'c', 'c', 'e', 'r', 'r']"
       ]
      }
     ],
     "prompt_number": 13
    },
    {
     "cell_type": "code",
     "collapsed": false,
     "input": [
      "sorted([\"a\", 72, \"car\", \"bullet\", 9])"
     ],
     "language": "python",
     "metadata": {},
     "outputs": [
      {
       "ename": "TypeError",
       "evalue": "unorderable types: int() < str()",
       "output_type": "pyerr",
       "traceback": [
        "\u001b[0;31m---------------------------------------------------------------------------\u001b[0m\n\u001b[0;31mTypeError\u001b[0m                                 Traceback (most recent call last)",
        "\u001b[0;32m<ipython-input-25-1a83c7aa1d8e>\u001b[0m in \u001b[0;36m<module>\u001b[0;34m()\u001b[0m\n\u001b[0;32m----> 1\u001b[0;31m \u001b[0msorted\u001b[0m\u001b[0;34m(\u001b[0m\u001b[0;34m[\u001b[0m\u001b[0;34m\"a\"\u001b[0m\u001b[0;34m,\u001b[0m \u001b[0;36m72\u001b[0m\u001b[0;34m,\u001b[0m \u001b[0;34m\"car\"\u001b[0m\u001b[0;34m,\u001b[0m \u001b[0;34m\"bullet\"\u001b[0m\u001b[0;34m,\u001b[0m \u001b[0;36m9\u001b[0m\u001b[0;34m]\u001b[0m\u001b[0;34m)\u001b[0m\u001b[0;34m\u001b[0m\u001b[0m\n\u001b[0m",
        "\u001b[0;31mTypeError\u001b[0m: unorderable types: int() < str()"
       ]
      }
     ],
     "prompt_number": 25
    },
    {
     "cell_type": "markdown",
     "metadata": {},
     "source": [
      "What if we want to sort things in a different fashion? How does that work?"
     ]
    },
    {
     "cell_type": "code",
     "collapsed": false,
     "input": [
      "help(sorted)"
     ],
     "language": "python",
     "metadata": {},
     "outputs": [
      {
       "output_type": "stream",
       "stream": "stdout",
       "text": [
        "Help on built-in function sorted in module builtins:\n",
        "\n",
        "sorted(...)\n",
        "    sorted(iterable, key=None, reverse=False) --> new sorted list\n",
        "\n"
       ]
      }
     ],
     "prompt_number": 18
    },
    {
     "cell_type": "markdown",
     "metadata": {},
     "source": [
      "`reverse` makes sense. Let's try it."
     ]
    },
    {
     "cell_type": "code",
     "collapsed": false,
     "input": [
      "sorted(a_list, reverse=True)"
     ],
     "language": "python",
     "metadata": {},
     "outputs": [
      {
       "metadata": {},
       "output_type": "pyout",
       "prompt_number": 8,
       "text": [
        "[22, 18, 12, 9, 7, -1]"
       ]
      }
     ],
     "prompt_number": 8
    },
    {
     "cell_type": "markdown",
     "metadata": {},
     "source": [
      "What is `key`, though?\n",
      "\n",
      "`key` is a function used as an argument. The iterable will be sorted not on the order of its elements, but on the order of the results of its elements when `key` is called with each element as an argument."
     ]
    },
    {
     "cell_type": "code",
     "collapsed": false,
     "input": [
      "# Should sort the numbers based on their string value -- that is, alphanumerically.\n",
      "sorted(a_list, key=str)"
     ],
     "language": "python",
     "metadata": {},
     "outputs": [
      {
       "metadata": {},
       "output_type": "pyout",
       "prompt_number": 19,
       "text": [
        "[-1, 12, 18, 22, 7, 9]"
       ]
      }
     ],
     "prompt_number": 19
    },
    {
     "cell_type": "code",
     "collapsed": false,
     "input": [
      "# Bad sort -- uppercase letters are sorted before lowercase ones.\n",
      "print(sorted(a_sentence.split()))"
     ],
     "language": "python",
     "metadata": {},
     "outputs": [
      {
       "output_type": "stream",
       "stream": "stdout",
       "text": [
        "[\"You're\", 'and', 'anything', 'as', 'at', 'but', 'can', 'do', 'have', 'if', 'it.', 'mother', 'my', 'never', 'old,', 'said,', 'to', 'to,', 'to,', 'too', 'want', 'want', 'work', 'you', 'you', 'you', 'you']\n"
       ]
      }
     ],
     "prompt_number": 16
    },
    {
     "cell_type": "code",
     "collapsed": false,
     "input": [
      "# Fixed -- sorted based on each word lowercased.\n",
      "print(sorted(a_sentence.split(), key=str.lower))"
     ],
     "language": "python",
     "metadata": {},
     "outputs": [
      {
       "output_type": "stream",
       "stream": "stdout",
       "text": [
        "['and', 'anything', 'as', 'at', 'but', 'can', 'do', 'have', 'if', 'it.', 'mother', 'my', 'never', 'old,', 'said,', 'to', 'to,', 'to,', 'too', 'want', 'want', 'work', 'you', 'you', 'you', 'you', \"You're\"]\n"
       ]
      }
     ],
     "prompt_number": 20
    },
    {
     "cell_type": "code",
     "collapsed": false,
     "input": [
      "print(sorted(a_sentence.split(), key=int))"
     ],
     "language": "python",
     "metadata": {},
     "outputs": [
      {
       "ename": "ValueError",
       "evalue": "invalid literal for int() with base 10: \"You're\"",
       "output_type": "pyerr",
       "traceback": [
        "\u001b[0;31m---------------------------------------------------------------------------\u001b[0m\n\u001b[0;31mValueError\u001b[0m                                Traceback (most recent call last)",
        "\u001b[0;32m<ipython-input-27-d4b5ee62cc4f>\u001b[0m in \u001b[0;36m<module>\u001b[0;34m()\u001b[0m\n\u001b[0;32m----> 1\u001b[0;31m \u001b[0mprint\u001b[0m\u001b[0;34m(\u001b[0m\u001b[0msorted\u001b[0m\u001b[0;34m(\u001b[0m\u001b[0ma_sentence\u001b[0m\u001b[0;34m.\u001b[0m\u001b[0msplit\u001b[0m\u001b[0;34m(\u001b[0m\u001b[0;34m)\u001b[0m\u001b[0;34m,\u001b[0m \u001b[0mkey\u001b[0m\u001b[0;34m=\u001b[0m\u001b[0mint\u001b[0m\u001b[0;34m)\u001b[0m\u001b[0;34m)\u001b[0m\u001b[0;34m\u001b[0m\u001b[0m\n\u001b[0m",
        "\u001b[0;31mValueError\u001b[0m: invalid literal for int() with base 10: \"You're\""
       ]
      }
     ],
     "prompt_number": 27
    },
    {
     "cell_type": "code",
     "collapsed": false,
     "input": [
      "print(sorted(a_sentence.split(), key=len, reverse=True)[0])"
     ],
     "language": "python",
     "metadata": {},
     "outputs": [
      {
       "output_type": "stream",
       "stream": "stdout",
       "text": [
        "anything\n"
       ]
      }
     ],
     "prompt_number": 31
    },
    {
     "cell_type": "markdown",
     "metadata": {},
     "source": [
      "Sometimes you need a function just for a sort or for another method. If it's a one-line function and you don't need it anywhere else, you can use `lambda`. `lambda` creates an _anonymous function_. It can only be one line long, and doesn't require a `return`."
     ]
    },
    {
     "cell_type": "code",
     "collapsed": false,
     "input": [
      "# Sort based on distance from the mean.\n",
      "sorted(a_list, key=lambda x: abs(x - sum(a_list) / len(a_list)))"
     ],
     "language": "python",
     "metadata": {},
     "outputs": [
      {
       "metadata": {},
       "output_type": "pyout",
       "prompt_number": 24,
       "text": [
        "[12, 9, 7, 18, 22, -1]"
       ]
      }
     ],
     "prompt_number": 24
    },
    {
     "cell_type": "code",
     "collapsed": false,
     "input": [
      "# Sort based on distance from the mean.\n",
      "def distance_from_mean(nums):\n",
      "    def distance(num):\n",
      "        return abs(num - sum(nums) / len(nums))\n",
      "    \n",
      "    return distance\n",
      "\n",
      "my_distance_from_mean = distance_from_mean(a_list)               \n",
      "sorted(a_list, key=my_distance_from_mean)"
     ],
     "language": "python",
     "metadata": {},
     "outputs": [
      {
       "metadata": {},
       "output_type": "pyout",
       "prompt_number": 38,
       "text": [
        "[12, 9, 7, 18, 22, -1]"
       ]
      }
     ],
     "prompt_number": 38
    },
    {
     "cell_type": "code",
     "collapsed": false,
     "input": [
      "def distance_from_10(num):\n",
      "    return abs(10 - num)\n",
      "\n",
      "sorted(a_list, key=distance_from_10)"
     ],
     "language": "python",
     "metadata": {},
     "outputs": [
      {
       "metadata": {},
       "output_type": "pyout",
       "prompt_number": 46,
       "text": [
        "[9, 12, 7, 18, -1, 22]"
       ]
      }
     ],
     "prompt_number": 46
    },
    {
     "cell_type": "code",
     "collapsed": false,
     "input": [
      "sorted([my_distance_from_mean(num) for num in a_list])"
     ],
     "language": "python",
     "metadata": {},
     "outputs": [
      {
       "metadata": {},
       "output_type": "pyout",
       "prompt_number": 48,
       "text": [
        "[0.8333333333333339,\n",
        " 2.166666666666666,\n",
        " 4.166666666666666,\n",
        " 6.833333333333334,\n",
        " 10.833333333333334,\n",
        " 12.166666666666666]"
       ]
      }
     ],
     "prompt_number": 48
    },
    {
     "cell_type": "code",
     "collapsed": false,
     "input": [
      "print(a_list)\n",
      "print(sum(a_list) / len(a_list))\n",
      "list(map(my_distance_from_mean, a_list))"
     ],
     "language": "python",
     "metadata": {},
     "outputs": [
      {
       "output_type": "stream",
       "stream": "stdout",
       "text": [
        "[9, 7, 12, -1, 18, 22]\n",
        "11.166666666666666\n"
       ]
      },
      {
       "metadata": {},
       "output_type": "pyout",
       "prompt_number": 43,
       "text": [
        "[2.166666666666666,\n",
        " 4.166666666666666,\n",
        " 0.8333333333333339,\n",
        " 12.166666666666666,\n",
        " 6.833333333333334,\n",
        " 10.833333333333334]"
       ]
      }
     ],
     "prompt_number": 43
    },
    {
     "cell_type": "code",
     "collapsed": false,
     "input": [],
     "language": "python",
     "metadata": {},
     "outputs": []
    }
   ],
   "metadata": {}
  }
 ]
}