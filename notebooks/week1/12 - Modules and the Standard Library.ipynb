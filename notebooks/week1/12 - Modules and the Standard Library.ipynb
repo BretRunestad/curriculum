{
 "metadata": {
  "name": "",
  "signature": "sha256:ed1bea6f34918b1cde4ac2d620f1ba217aa0a75dc044dbfb7135d9f5e87fffd9"
 },
 "nbformat": 3,
 "nbformat_minor": 0,
 "worksheets": [
  {
   "cells": [
    {
     "cell_type": "markdown",
     "metadata": {},
     "source": [
      "One of the best things about working in Python is that you have a lot of code already written that you can use. Python itself comes with its _standard library_. There are third-party libraries you download with `pip`. And you can also reuse your own code.\n",
      "\n",
      "We often want to split our code into separate files for organizational purposes. We split our code up by topic. Each file holds a _module_."
     ]
    },
    {
     "cell_type": "code",
     "collapsed": false,
     "input": [
      "# We can use anything in the datetime module as long as we prefix it.\n",
      "\n",
      "import datetime\n",
      "\n",
      "jan1 = datetime.date(year=2015, month=1, day=1)\n",
      "print(jan1.year, jan1.month, jan1.day)\n",
      "\n",
      "noon = datetime.time(hour=12, minute=0)\n",
      "print(noon.hour, noon.minute, noon.second)"
     ],
     "language": "python",
     "metadata": {},
     "outputs": [
      {
       "output_type": "stream",
       "stream": "stdout",
       "text": [
        "2015 1 1\n",
        "12 0 0\n"
       ]
      }
     ],
     "prompt_number": 1
    },
    {
     "cell_type": "code",
     "collapsed": false,
     "input": [
      "# Or we can use from to get specific functions/types from a module.\n",
      "\n",
      "from datetime import date\n",
      "\n",
      "jan1 = date(year=2015, month=1, day=1)\n",
      "print(jan1.year, jan1.month, jan1.day)"
     ],
     "language": "python",
     "metadata": {},
     "outputs": [
      {
       "output_type": "stream",
       "stream": "stdout",
       "text": [
        "2015 1 1\n"
       ]
      }
     ],
     "prompt_number": 2
    },
    {
     "cell_type": "code",
     "collapsed": false,
     "input": [
      "# What if we try to use something else we haven't imported?\n",
      "time(hour=12, minute=0)"
     ],
     "language": "python",
     "metadata": {},
     "outputs": [
      {
       "ename": "NameError",
       "evalue": "name 'time' is not defined",
       "output_type": "pyerr",
       "traceback": [
        "\u001b[0;31m---------------------------------------------------------------------------\u001b[0m\n\u001b[0;31mNameError\u001b[0m                                 Traceback (most recent call last)",
        "\u001b[0;32m<ipython-input-3-45a048f2f64f>\u001b[0m in \u001b[0;36m<module>\u001b[0;34m()\u001b[0m\n\u001b[1;32m      1\u001b[0m \u001b[0;31m# What if we try to use something else we haven't imported?\u001b[0m\u001b[0;34m\u001b[0m\u001b[0;34m\u001b[0m\u001b[0m\n\u001b[0;32m----> 2\u001b[0;31m \u001b[0mtime\u001b[0m\u001b[0;34m(\u001b[0m\u001b[0mhour\u001b[0m\u001b[0;34m=\u001b[0m\u001b[0;36m12\u001b[0m\u001b[0;34m,\u001b[0m \u001b[0mminute\u001b[0m\u001b[0;34m=\u001b[0m\u001b[0;36m0\u001b[0m\u001b[0;34m)\u001b[0m\u001b[0;34m\u001b[0m\u001b[0m\n\u001b[0m",
        "\u001b[0;31mNameError\u001b[0m: name 'time' is not defined"
       ]
      }
     ],
     "prompt_number": 3
    },
    {
     "cell_type": "markdown",
     "metadata": {},
     "source": [
      "Some really important namespaces in the standard library to know:\n",
      "\n",
      "* re\n",
      "* datetime\n",
      "* math\n",
      "* random\n",
      "* statistics\n",
      "* collections\n",
      "* itertools\n",
      "* os\n",
      "* os.path\n",
      "* sys\n",
      "* io\n",
      "* argparse\n",
      "* subprocess\n",
      "* csv\n",
      "* json\n",
      "* urllib"
     ]
    },
    {
     "cell_type": "heading",
     "level": 2,
     "metadata": {},
     "source": [
      "Importing your own modules"
     ]
    },
    {
     "cell_type": "markdown",
     "metadata": {},
     "source": [
      "When you use `import`, it looks for files in a list of paths. You can see these paths like so:"
     ]
    },
    {
     "cell_type": "code",
     "collapsed": false,
     "input": [
      "import sys\n",
      "print(sys.path)"
     ],
     "language": "python",
     "metadata": {},
     "outputs": [
      {
       "output_type": "stream",
       "stream": "stdout",
       "text": [
        "['', '/Users/clinton/.pyenv/versions/3.4.2/lib/python34.zip', '/Users/clinton/.pyenv/versions/3.4.2/lib/python3.4', '/Users/clinton/.pyenv/versions/3.4.2/lib/python3.4/plat-darwin', '/Users/clinton/.pyenv/versions/3.4.2/lib/python3.4/lib-dynload', '/Users/clinton/.pyenv/versions/sandbox/lib/python3.4/site-packages', '/Users/clinton/.pyenv/versions/sandbox/lib/python3.4/site-packages/IPython/extensions']\n"
       ]
      }
     ],
     "prompt_number": 4
    },
    {
     "cell_type": "markdown",
     "metadata": {},
     "source": [
      "Note that the first one of those is an empty string. `import` will always be able to import things relative to your current directory, which is nice for use in projects.\n",
      "\n",
      "In your projects, you might have code that you only want executed if you run a file directly, but you don't want it run if the module is imported, like in a test file. To make that happen, use this:"
     ]
    },
    {
     "cell_type": "code",
     "collapsed": false,
     "input": [
      "if __name__ == \"__main__\":\n",
      "    # do whatever you want when the file is run directly\n",
      "    # i.e. python my_file.py\n",
      "    pass"
     ],
     "language": "python",
     "metadata": {},
     "outputs": [],
     "prompt_number": 5
    },
    {
     "cell_type": "heading",
     "level": 2,
     "metadata": {},
     "source": [
      "Installing third-party libraries with pip"
     ]
    },
    {
     "cell_type": "heading",
     "level": 3,
     "metadata": {},
     "source": [
      "requirements.txt"
     ]
    },
    {
     "cell_type": "code",
     "collapsed": false,
     "input": [],
     "language": "python",
     "metadata": {},
     "outputs": []
    }
   ],
   "metadata": {}
  }
 ]
}