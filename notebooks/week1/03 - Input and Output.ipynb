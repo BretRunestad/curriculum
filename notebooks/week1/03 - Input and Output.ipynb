{
 "metadata": {
  "name": "",
  "signature": "sha256:8dfd0a17f3def829035340cb987190b9d24369f933ae51df092f3134cbaa3172"
 },
 "nbformat": 3,
 "nbformat_minor": 0,
 "worksheets": [
  {
   "cells": [
    {
     "cell_type": "heading",
     "level": 1,
     "metadata": {},
     "source": [
      "Printing"
     ]
    },
    {
     "cell_type": "markdown",
     "metadata": {},
     "source": [
      "Our programs need to be able to interact with users. In order to show the user information, you have to print it. The `print()` function lets us do that."
     ]
    },
    {
     "cell_type": "code",
     "collapsed": false,
     "input": [
      "help(print)"
     ],
     "language": "python",
     "metadata": {},
     "outputs": [
      {
       "output_type": "stream",
       "stream": "stdout",
       "text": [
        "Help on built-in function print in module builtins:\n",
        "\n",
        "print(...)\n",
        "    print(value, ..., sep=' ', end='\\n', file=sys.stdout, flush=False)\n",
        "    \n",
        "    Prints the values to a stream, or to sys.stdout by default.\n",
        "    Optional keyword arguments:\n",
        "    file:  a file-like object (stream); defaults to the current sys.stdout.\n",
        "    sep:   string inserted between values, default a space.\n",
        "    end:   string appended after the last value, default a newline.\n",
        "    flush: whether to forcibly flush the stream.\n",
        "\n"
       ]
      }
     ],
     "prompt_number": 1
    },
    {
     "cell_type": "code",
     "collapsed": false,
     "input": [
      "print(\"Hello there!\")"
     ],
     "language": "python",
     "metadata": {},
     "outputs": [
      {
       "output_type": "stream",
       "stream": "stdout",
       "text": [
        "Hello there!\n"
       ]
      }
     ],
     "prompt_number": 2
    },
    {
     "cell_type": "code",
     "collapsed": false,
     "input": [
      "print(\"Avery\", \"Douglas\")"
     ],
     "language": "python",
     "metadata": {},
     "outputs": [
      {
       "output_type": "stream",
       "stream": "stdout",
       "text": [
        "Avery Douglas\n"
       ]
      }
     ],
     "prompt_number": 2
    },
    {
     "cell_type": "code",
     "collapsed": false,
     "input": [
      "print(\"Keelan\", \"Parker\", \"Sawyer\", sep=\" | \")"
     ],
     "language": "python",
     "metadata": {},
     "outputs": [
      {
       "output_type": "stream",
       "stream": "stdout",
       "text": [
        "Keelan | Parker | Sawyer\n"
       ]
      }
     ],
     "prompt_number": 4
    },
    {
     "cell_type": "code",
     "collapsed": false,
     "input": [
      "print(2.75)"
     ],
     "language": "python",
     "metadata": {},
     "outputs": [
      {
       "output_type": "stream",
       "stream": "stdout",
       "text": [
        "2.75\n"
       ]
      }
     ],
     "prompt_number": 5
    },
    {
     "cell_type": "code",
     "collapsed": false,
     "input": [
      "print(\"The number is\", 2.75)"
     ],
     "language": "python",
     "metadata": {},
     "outputs": [
      {
       "output_type": "stream",
       "stream": "stdout",
       "text": [
        "The number is 2.75\n"
       ]
      }
     ],
     "prompt_number": 7
    },
    {
     "cell_type": "code",
     "collapsed": false,
     "input": [
      "print(\"The number is \" + str(2.75))"
     ],
     "language": "python",
     "metadata": {},
     "outputs": [
      {
       "output_type": "stream",
       "stream": "stdout",
       "text": [
        "The number is 2.75\n"
       ]
      }
     ],
     "prompt_number": 4
    },
    {
     "cell_type": "heading",
     "level": 1,
     "metadata": {},
     "source": [
      "Input"
     ]
    },
    {
     "cell_type": "markdown",
     "metadata": {},
     "source": [
      "In order to get information from the user, you need to get input from them. The `input` function lets us do that."
     ]
    },
    {
     "cell_type": "code",
     "collapsed": false,
     "input": [
      "help(input)"
     ],
     "language": "python",
     "metadata": {},
     "outputs": [
      {
       "output_type": "stream",
       "stream": "stdout",
       "text": [
        "Help on function <lambda> in module IPython.kernel.zmq.ipkernel:\n",
        "\n",
        "<lambda> lambda prompt=''\n",
        "\n"
       ]
      }
     ],
     "prompt_number": 15
    },
    {
     "cell_type": "code",
     "collapsed": false,
     "input": [
      "input()"
     ],
     "language": "python",
     "metadata": {},
     "outputs": [
      {
       "name": "stdout",
       "output_type": "stream",
       "stream": "stdout",
       "text": [
        "12\n"
       ]
      },
      {
       "metadata": {},
       "output_type": "pyout",
       "prompt_number": 5,
       "text": [
        "'12'"
       ]
      }
     ],
     "prompt_number": 5
    },
    {
     "cell_type": "code",
     "collapsed": false,
     "input": [
      "input(\"What is the number? \")"
     ],
     "language": "python",
     "metadata": {},
     "outputs": [
      {
       "name": "stdout",
       "output_type": "stream",
       "stream": "stdout",
       "text": [
        "What is the number? Charlie\n"
       ]
      },
      {
       "metadata": {},
       "output_type": "pyout",
       "prompt_number": 7,
       "text": [
        "'Charlie'"
       ]
      }
     ],
     "prompt_number": 7
    },
    {
     "cell_type": "heading",
     "level": 2,
     "metadata": {},
     "source": [
      "Variables and conversion"
     ]
    },
    {
     "cell_type": "markdown",
     "metadata": {},
     "source": [
      "You can store values input in variables. All user input is a string, so you have to convert it if you want to use it as a number."
     ]
    },
    {
     "cell_type": "code",
     "collapsed": false,
     "input": [
      "# WHOOPS\n",
      "\n",
      "a = input(\"Enter the first number: \")\n",
      "b = input(\"Enter the second number: \")\n",
      "print(\"The sum is\", a + b)"
     ],
     "language": "python",
     "metadata": {},
     "outputs": [
      {
       "name": "stdout",
       "output_type": "stream",
       "stream": "stdout",
       "text": [
        "Enter the first number: 1\n"
       ]
      },
      {
       "name": "stdout",
       "output_type": "stream",
       "stream": "stdout",
       "text": [
        "Enter the second number: 2\n"
       ]
      },
      {
       "output_type": "stream",
       "stream": "stdout",
       "text": [
        "The sum is 12\n"
       ]
      }
     ],
     "prompt_number": 8
    },
    {
     "cell_type": "markdown",
     "metadata": {},
     "source": [
      "How do we fix this?"
     ]
    },
    {
     "cell_type": "code",
     "collapsed": false,
     "input": [
      "a = input(\"Enter the first number: \")\n",
      "b = input(\"Enter the second number: \")\n",
      "print(type(a))\n",
      "print(type(b))\n",
      "print(\"The sum is\", int(a) + int(b))"
     ],
     "language": "python",
     "metadata": {},
     "outputs": [
      {
       "name": "stdout",
       "output_type": "stream",
       "stream": "stdout",
       "text": [
        "Enter the first number: 4\n"
       ]
      },
      {
       "name": "stdout",
       "output_type": "stream",
       "stream": "stdout",
       "text": [
        "Enter the second number: 5\n"
       ]
      },
      {
       "output_type": "stream",
       "stream": "stdout",
       "text": [
        "<class 'str'>\n",
        "<class 'str'>\n",
        "The sum is 9\n"
       ]
      }
     ],
     "prompt_number": 15
    },
    {
     "cell_type": "code",
     "collapsed": false,
     "input": [
      "a = int(input(\"Enter the first number: \"))\n",
      "b = int(input(\"Enter the second number: \"))\n",
      "print(type(a))\n",
      "print(type(b))\n",
      "print(\"The sum is\", a + b)"
     ],
     "language": "python",
     "metadata": {},
     "outputs": [
      {
       "name": "stdout",
       "output_type": "stream",
       "stream": "stdout",
       "text": [
        "Enter the first number: 4\n"
       ]
      },
      {
       "name": "stdout",
       "output_type": "stream",
       "stream": "stdout",
       "text": [
        "Enter the second number: 5\n"
       ]
      },
      {
       "output_type": "stream",
       "stream": "stdout",
       "text": [
        "<class 'int'>\n",
        "<class 'int'>\n",
        "The sum is 9\n"
       ]
      }
     ],
     "prompt_number": 16
    },
    {
     "cell_type": "code",
     "collapsed": false,
     "input": [
      "help(repr)"
     ],
     "language": "python",
     "metadata": {},
     "outputs": [
      {
       "output_type": "stream",
       "stream": "stdout",
       "text": [
        "Help on built-in function repr in module builtins:\n",
        "\n",
        "repr(...)\n",
        "    repr(object) -> string\n",
        "    \n",
        "    Return the canonical string representation of the object.\n",
        "    For most object types, eval(repr(object)) == object.\n",
        "\n"
       ]
      }
     ],
     "prompt_number": 14
    },
    {
     "cell_type": "code",
     "collapsed": false,
     "input": [
      "help(type)"
     ],
     "language": "python",
     "metadata": {},
     "outputs": [
      {
       "output_type": "stream",
       "stream": "stdout",
       "text": [
        "Help on class type in module builtins:\n",
        "\n",
        "class type(object)\n",
        " |  type(object_or_name, bases, dict)\n",
        " |  type(object) -> the object's type\n",
        " |  type(name, bases, dict) -> a new type\n",
        " |  \n",
        " |  Methods defined here:\n",
        " |  \n",
        " |  __call__(self, /, *args, **kwargs)\n",
        " |      Call self as a function.\n",
        " |  \n",
        " |  __delattr__(self, name, /)\n",
        " |      Implement delattr(self, name).\n",
        " |  \n",
        " |  __dir__(...)\n",
        " |      __dir__() -> list\n",
        " |      specialized __dir__ implementation for types\n",
        " |  \n",
        " |  __getattribute__(self, name, /)\n",
        " |      Return getattr(self, name).\n",
        " |  \n",
        " |  __init__(self, /, *args, **kwargs)\n",
        " |      Initialize self.  See help(type(self)) for accurate signature.\n",
        " |  \n",
        " |  __instancecheck__(...)\n",
        " |      __instancecheck__() -> bool\n",
        " |      check if an object is an instance\n",
        " |  \n",
        " |  __new__(*args, **kwargs)\n",
        " |      Create and return a new object.  See help(type) for accurate signature.\n",
        " |  \n",
        " |  __prepare__(...)\n",
        " |      __prepare__() -> dict\n",
        " |      used to create the namespace for the class statement\n",
        " |  \n",
        " |  __repr__(self, /)\n",
        " |      Return repr(self).\n",
        " |  \n",
        " |  __setattr__(self, name, value, /)\n",
        " |      Implement setattr(self, name, value).\n",
        " |  \n",
        " |  __sizeof__(...)\n",
        " |      __sizeof__() -> int\n",
        " |      return memory consumption of the type object\n",
        " |  \n",
        " |  __subclasscheck__(...)\n",
        " |      __subclasscheck__() -> bool\n",
        " |      check if a class is a subclass\n",
        " |  \n",
        " |  __subclasses__(...)\n",
        " |      __subclasses__() -> list of immediate subclasses\n",
        " |  \n",
        " |  mro(...)\n",
        " |      mro() -> list\n",
        " |      return a type's method resolution order\n",
        " |  \n",
        " |  ----------------------------------------------------------------------\n",
        " |  Data descriptors defined here:\n",
        " |  \n",
        " |  __abstractmethods__\n",
        " |  \n",
        " |  __dict__\n",
        " |  \n",
        " |  __text_signature__\n",
        " |  \n",
        " |  ----------------------------------------------------------------------\n",
        " |  Data and other attributes defined here:\n",
        " |  \n",
        " |  __base__ = <class 'object'>\n",
        " |      The most base type\n",
        " |  \n",
        " |  __bases__ = (<class 'object'>,)\n",
        " |  \n",
        " |  __basicsize__ = 824\n",
        " |  \n",
        " |  __dictoffset__ = 264\n",
        " |  \n",
        " |  __flags__ = 2148291584\n",
        " |  \n",
        " |  __itemsize__ = 40\n",
        " |  \n",
        " |  __mro__ = (<class 'type'>, <class 'object'>)\n",
        " |  \n",
        " |  __weakrefoffset__ = 368\n",
        "\n"
       ]
      }
     ],
     "prompt_number": 17
    },
    {
     "cell_type": "code",
     "collapsed": false,
     "input": [],
     "language": "python",
     "metadata": {},
     "outputs": []
    }
   ],
   "metadata": {}
  }
 ]
}