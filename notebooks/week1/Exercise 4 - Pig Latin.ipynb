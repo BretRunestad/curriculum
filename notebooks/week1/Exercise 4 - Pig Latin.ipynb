{
 "metadata": {
  "name": "",
  "signature": "sha256:fa9d2ea174548a15580a784ff7b86cc36311620baa0017f9d6d602b25fbd1363"
 },
 "nbformat": 3,
 "nbformat_minor": 0,
 "worksheets": [
  {
   "cells": [
    {
     "cell_type": "markdown",
     "metadata": {},
     "source": [
      "The usual rules for changing standard English into Pig Latin are as follows:\n",
      "\n",
      "For words that begin with consonant sounds, the initial consonant or consonant cluster is moved to the end of the word, and \"ay\" is added, as in the following examples:\n",
      "\n",
      "* \"pig\" \u2192 \"igpay\"\n",
      "* \"banana\" \u2192 \"ananabay\"\n",
      "* \"trash\" \u2192 \"ashtray\"\n",
      "* \"happy\" \u2192 \"appyhay\"\n",
      "* \"duck\" \u2192 \"uckday\"\n",
      "* \"glove\" \u2192 \"oveglay\"\n",
      "\n",
      "For words that begin with vowel sounds or silent letter, you just add \"way\" (or \"wa\") to the end. Examples are:\n",
      "\n",
      "* \"egg\" \u2192 \"eggway\"\n",
      "* \"inbox\" \u2192 \"inboxway\"\n",
      "* \"eight\" \u2192 \"eightway\""
     ]
    },
    {
     "cell_type": "markdown",
     "metadata": {},
     "source": [
      "Create a function called `pig_latin` that takes a string with a word, phrase, or sentence and converts it into Pig Latin.\n",
      "\n",
      "This will be easiest to solve if you start with the simplest case, a word starting with one consonant, and build up from there."
     ]
    },
    {
     "cell_type": "code",
     "collapsed": false,
     "input": [],
     "language": "python",
     "metadata": {},
     "outputs": []
    }
   ],
   "metadata": {}
  }
 ]
}