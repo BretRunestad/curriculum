{
 "metadata": {
  "name": "",
  "signature": "sha256:261071455d0f4c848e7427069d54426b1f6b40180cd2c8411b1d66bf144e32bd"
 },
 "nbformat": 3,
 "nbformat_minor": 0,
 "worksheets": [
  {
   "cells": [
    {
     "cell_type": "heading",
     "level": 1,
     "metadata": {},
     "source": [
      "Functions"
     ]
    },
    {
     "cell_type": "markdown",
     "metadata": {},
     "source": [
      "Functions are ways to take code and turn it into a reusable template."
     ]
    },
    {
     "cell_type": "code",
     "collapsed": false,
     "input": [
      "radius = 2\n",
      "pi = 3.14159\n",
      "circumference = radius * 2 * pi\n",
      "print(circumference)"
     ],
     "language": "python",
     "metadata": {},
     "outputs": [
      {
       "output_type": "stream",
       "stream": "stdout",
       "text": [
        "12.56636\n"
       ]
      }
     ],
     "prompt_number": 10
    },
    {
     "cell_type": "code",
     "collapsed": false,
     "input": [
      "def circumference(radius):\n",
      "    \"\"\"Given the radius of a circle, return the circumference.\"\"\"\n",
      "    return radius * 2 * pi\n",
      "\n",
      "print(circumference(2))\n",
      "print(circumference(3))"
     ],
     "language": "python",
     "metadata": {},
     "outputs": [
      {
       "output_type": "stream",
       "stream": "stdout",
       "text": [
        "12.56636\n",
        "18.849539999999998\n"
       ]
      }
     ],
     "prompt_number": 11
    },
    {
     "cell_type": "code",
     "collapsed": false,
     "input": [
      "def circumference(radius, pi):\n",
      "    \"\"\"Given the radius of a circle, return the circumference.\"\"\"\n",
      "    return radius * 2 * pi\n",
      "\n",
      "print(circumference(2, 4))\n",
      "print(circumference(3, 3.5))"
     ],
     "language": "python",
     "metadata": {},
     "outputs": [
      {
       "output_type": "stream",
       "stream": "stdout",
       "text": [
        "16\n",
        "21.0\n"
       ]
      }
     ],
     "prompt_number": 12
    },
    {
     "cell_type": "code",
     "collapsed": false,
     "input": [
      "pi"
     ],
     "language": "python",
     "metadata": {},
     "outputs": [
      {
       "metadata": {},
       "output_type": "pyout",
       "prompt_number": 7,
       "text": [
        "3.14159"
       ]
      }
     ],
     "prompt_number": 7
    },
    {
     "cell_type": "code",
     "collapsed": false,
     "input": [
      "help(circumference)"
     ],
     "language": "python",
     "metadata": {},
     "outputs": [
      {
       "output_type": "stream",
       "stream": "stdout",
       "text": [
        "Help on function circumference in module __main__:\n",
        "\n",
        "circumference(radius)\n",
        "    Given the radius of a circle, return the circumference.\n",
        "\n"
       ]
      }
     ],
     "prompt_number": 3
    },
    {
     "cell_type": "markdown",
     "metadata": {},
     "source": [
      "Functions have a name, _parameters_, a _docstring_, and a _return value_. Parameters are in parentheses after the name. You can think of them as the blank spots in the template. Their values get filled in when the function is later called. There can be more than one parameter.\n",
      "\n",
      "The return value is defined by using the `return` keyword. It is the value that the function will return when called."
     ]
    },
    {
     "cell_type": "code",
     "collapsed": false,
     "input": [
      "def rectangle_area(width, height):\n",
      "    \"\"\"Given the width and height of a rectangle, return the area.\"\"\"\n",
      "    return width * height\n",
      "\n",
      "print(rectangle_area(5, 8))\n",
      "print(width)"
     ],
     "language": "python",
     "metadata": {},
     "outputs": [
      {
       "output_type": "stream",
       "stream": "stdout",
       "text": [
        "40\n"
       ]
      },
      {
       "ename": "NameError",
       "evalue": "name 'width' is not defined",
       "output_type": "pyerr",
       "traceback": [
        "\u001b[0;31m---------------------------------------------------------------------------\u001b[0m\n\u001b[0;31mNameError\u001b[0m                                 Traceback (most recent call last)",
        "\u001b[0;32m<ipython-input-5-bc5ccfcf8b91>\u001b[0m in \u001b[0;36m<module>\u001b[0;34m()\u001b[0m\n\u001b[1;32m      4\u001b[0m \u001b[0;34m\u001b[0m\u001b[0m\n\u001b[1;32m      5\u001b[0m \u001b[0mprint\u001b[0m\u001b[0;34m(\u001b[0m\u001b[0mrectangle_area\u001b[0m\u001b[0;34m(\u001b[0m\u001b[0;36m5\u001b[0m\u001b[0;34m,\u001b[0m \u001b[0;36m8\u001b[0m\u001b[0;34m)\u001b[0m\u001b[0;34m)\u001b[0m\u001b[0;34m\u001b[0m\u001b[0m\n\u001b[0;32m----> 6\u001b[0;31m \u001b[0mprint\u001b[0m\u001b[0;34m(\u001b[0m\u001b[0mwidth\u001b[0m\u001b[0;34m)\u001b[0m\u001b[0;34m\u001b[0m\u001b[0m\n\u001b[0m",
        "\u001b[0;31mNameError\u001b[0m: name 'width' is not defined"
       ]
      }
     ],
     "prompt_number": 5
    },
    {
     "cell_type": "markdown",
     "metadata": {},
     "source": [
      "When you call a function, the values you give it are called _arguments_. You can specify them in order, like we just did, or by name."
     ]
    },
    {
     "cell_type": "code",
     "collapsed": false,
     "input": [
      "print(rectangle_area(height=8, width=5))"
     ],
     "language": "python",
     "metadata": {},
     "outputs": [
      {
       "output_type": "stream",
       "stream": "stdout",
       "text": [
        "40\n"
       ]
      }
     ],
     "prompt_number": 10
    },
    {
     "cell_type": "markdown",
     "metadata": {},
     "source": [
      "Functions can call other functions."
     ]
    },
    {
     "cell_type": "code",
     "collapsed": false,
     "input": [
      "def square_area(length):\n",
      "    \"\"\"Returns the area of a square given the length of one side.\"\"\"\n",
      "    return rectangle_area(length, length)\n",
      "\n",
      "print(square_area(9))"
     ],
     "language": "python",
     "metadata": {},
     "outputs": [
      {
       "output_type": "stream",
       "stream": "stdout",
       "text": [
        "81\n"
       ]
      }
     ],
     "prompt_number": 23
    },
    {
     "cell_type": "markdown",
     "metadata": {},
     "source": [
      "Functions can have _default arguments_."
     ]
    },
    {
     "cell_type": "code",
     "collapsed": false,
     "input": [
      "def inc(number, amount=1):\n",
      "    \"\"\"Increments the number.\n",
      "    \n",
      "    Keyword arguments:\n",
      "    number -- the number to increment\n",
      "    amount -- the amount to increment (default 1)\n",
      "    \"\"\"\n",
      "    return number + amount\n",
      "\n",
      "print(inc(10))\n",
      "print(inc(10, amount=5))\n",
      "print(inc(10, 2))"
     ],
     "language": "python",
     "metadata": {},
     "outputs": [
      {
       "output_type": "stream",
       "stream": "stdout",
       "text": [
        "11\n",
        "15\n",
        "12\n"
       ]
      }
     ],
     "prompt_number": 13
    },
    {
     "cell_type": "markdown",
     "metadata": {},
     "source": [
      "Functions can be made of multiple lines, of course."
     ]
    },
    {
     "cell_type": "code",
     "collapsed": false,
     "input": [
      "def name(first, last, middle=None, last_name_first=False):\n",
      "    \"\"\"Returns the name of a person. \n",
      "    First and last name are required. The middle name is not. If the middle name\n",
      "    is one character, it is assumed to be an initial and a period will be added.\n",
      "    \n",
      "    Keyword arguments:\n",
      "    first -- the first name\n",
      "    last -- the last name\n",
      "    middle -- middle name or initial (default None)\n",
      "    last_name_first -- do you want the last name printed first? (default False)\n",
      "    \"\"\"\n",
      "    if middle is None:\n",
      "        first_part = first\n",
      "    else:\n",
      "        if len(middle) == 1:\n",
      "            middle = middle + \".\"\n",
      "\n",
      "        first_part = \"{} {}\".format(first, middle)\n",
      "\n",
      "        \n",
      "    if last_name_first:\n",
      "        return \"{}, {}\".format(last, first_part)\n",
      "    else:\n",
      "        return \"{} {}\".format(first_part, last)\n",
      "    \n",
      "print(name(first=\"Carter\", last=\"Nelson\"))\n",
      "print(name(first=\"Carter\", last=\"Nelson\", middle=\"P\"))\n",
      "print(name(first=\"Carter\", last=\"Nelson\", middle=\"Phoenix\"))\n",
      "print(name(first=\"Carter\", last=\"Nelson\", middle=\"P\", last_name_first=True))\n",
      "        "
     ],
     "language": "python",
     "metadata": {},
     "outputs": [
      {
       "output_type": "stream",
       "stream": "stdout",
       "text": [
        "Carter Nelson\n",
        "Carter P. Nelson\n",
        "Carter Phoenix Nelson\n",
        "Nelson, Carter P.\n"
       ]
      }
     ],
     "prompt_number": 15
    },
    {
     "cell_type": "heading",
     "level": 1,
     "metadata": {},
     "source": [
      "Recursion"
     ]
    },
    {
     "cell_type": "markdown",
     "metadata": {},
     "source": [
      "Functions can call themselves. When you do this, it's called _recursion_. Recursion is not necessarily the way to go, but you can solve many problems with it. Here's a really simple example:"
     ]
    },
    {
     "cell_type": "code",
     "collapsed": false,
     "input": [
      "def add(x, y):\n",
      "    \"\"\"Adds two numbers.\"\"\"\n",
      "    if y > 0:\n",
      "        return add(x + 1, y - 1)\n",
      "    elif y < 0:\n",
      "        return add(x - 1, y + 1)\n",
      "    else:\n",
      "        return x"
     ],
     "language": "python",
     "metadata": {},
     "outputs": [],
     "prompt_number": 25
    },
    {
     "cell_type": "code",
     "collapsed": false,
     "input": [
      "add(10, 20)"
     ],
     "language": "python",
     "metadata": {},
     "outputs": [
      {
       "metadata": {},
       "output_type": "pyout",
       "prompt_number": 18,
       "text": [
        "30"
       ]
      }
     ],
     "prompt_number": 18
    },
    {
     "cell_type": "code",
     "collapsed": false,
     "input": [
      "add(10, -5)"
     ],
     "language": "python",
     "metadata": {},
     "outputs": [
      {
       "metadata": {},
       "output_type": "pyout",
       "prompt_number": 19,
       "text": [
        "5"
       ]
      }
     ],
     "prompt_number": 19
    },
    {
     "cell_type": "code",
     "collapsed": false,
     "input": [
      "add(1, 0)"
     ],
     "language": "python",
     "metadata": {},
     "outputs": [
      {
       "metadata": {},
       "output_type": "pyout",
       "prompt_number": 20,
       "text": [
        "1"
       ]
      }
     ],
     "prompt_number": 20
    },
    {
     "cell_type": "heading",
     "level": 2,
     "metadata": {},
     "source": [
      "Fibonacci sequence and recursion"
     ]
    },
    {
     "cell_type": "code",
     "collapsed": false,
     "input": [
      "# fib(n) = fib(n - 1) + fib(n - 2)\n",
      "\n",
      "def fib(n):\n",
      "    \"\"\"Calculates the nth Fibonacci number, given that n is positive.\"\"\"\n",
      "    \n",
      "    print(\"fib {}\".format(n))\n",
      "    if n < 1:\n",
      "        return 0\n",
      "    elif n == 1:\n",
      "        return 1\n",
      "    else:\n",
      "        return fib(n - 1) + fib(n - 2)"
     ],
     "language": "python",
     "metadata": {},
     "outputs": [],
     "prompt_number": 18
    },
    {
     "cell_type": "code",
     "collapsed": false,
     "input": [
      "fib(6)"
     ],
     "language": "python",
     "metadata": {},
     "outputs": [
      {
       "output_type": "stream",
       "stream": "stdout",
       "text": [
        "fib 6\n",
        "fib 5\n",
        "fib 4\n",
        "fib 3\n",
        "fib 2\n",
        "fib 1\n",
        "fib 0\n",
        "fib 1\n",
        "fib 2\n",
        "fib 1\n",
        "fib 0\n",
        "fib 3\n",
        "fib 2\n",
        "fib 1\n",
        "fib 0\n",
        "fib 1\n",
        "fib 4\n",
        "fib 3\n",
        "fib 2\n",
        "fib 1\n",
        "fib 0\n",
        "fib 1\n",
        "fib 2\n",
        "fib 1\n",
        "fib 0\n"
       ]
      },
      {
       "metadata": {},
       "output_type": "pyout",
       "prompt_number": 19,
       "text": [
        "8"
       ]
      }
     ],
     "prompt_number": 19
    },
    {
     "cell_type": "heading",
     "level": 2,
     "metadata": {},
     "source": [
      "Fibonacci and iteration"
     ]
    },
    {
     "cell_type": "code",
     "collapsed": false,
     "input": [
      "def fib(n):\n",
      "    \"\"\"Calculates the nth Fibonacci number, given that n is positive.\"\"\"\n",
      "    \n",
      "    prev = 0\n",
      "    current = 1\n",
      "    value = 0\n",
      "    \n",
      "    counter = 1\n",
      "    \n",
      "    if n == 0:\n",
      "        return 0\n",
      "    \n",
      "    while counter < n:\n",
      "#         print(\"counter: \", counter)\n",
      "#         print(\"prev: \", prev)\n",
      "#         print(\"current: \", current)\n",
      "        value = current + prev\n",
      "#         print(\"value: \", value)\n",
      "        prev = current\n",
      "        current = value\n",
      "        counter += 1\n",
      "        \n",
      "    return value"
     ],
     "language": "python",
     "metadata": {},
     "outputs": [],
     "prompt_number": 21
    },
    {
     "cell_type": "code",
     "collapsed": false,
     "input": [
      "fib(3)"
     ],
     "language": "python",
     "metadata": {},
     "outputs": [
      {
       "metadata": {},
       "output_type": "pyout",
       "prompt_number": 22,
       "text": [
        "2"
       ]
      }
     ],
     "prompt_number": 22
    },
    {
     "cell_type": "code",
     "collapsed": false,
     "input": [
      "fib(100)"
     ],
     "language": "python",
     "metadata": {},
     "outputs": [
      {
       "metadata": {},
       "output_type": "pyout",
       "prompt_number": 23,
       "text": [
        "354224848179261915075"
       ]
      }
     ],
     "prompt_number": 23
    },
    {
     "cell_type": "code",
     "collapsed": false,
     "input": [],
     "language": "python",
     "metadata": {},
     "outputs": []
    }
   ],
   "metadata": {}
  }
 ]
}