{
 "metadata": {
  "name": "",
  "signature": "sha256:c928076a02bcba03b65fbe23f4a105c62d82ee1854ecfb0c9e9bb328ea30828d"
 },
 "nbformat": 3,
 "nbformat_minor": 0,
 "worksheets": [
  {
   "cells": [
    {
     "cell_type": "markdown",
     "metadata": {},
     "source": [
      "Suppose the cover price of a book is \\$24.95, but bookstores get a 40% discount. Shipping costs \\$3 for the first copy and 75 cents for each additional copy. What is the total wholesale cost for 60 copies?"
     ]
    },
    {
     "cell_type": "heading",
     "level": 1,
     "metadata": {},
     "source": [
      "Variables"
     ]
    },
    {
     "cell_type": "code",
     "collapsed": false,
     "input": [
      "price = 24.95\n",
      "discount = 0.40\n",
      "base_shipping = 3\n",
      "additional_shipping = 0.75"
     ],
     "language": "python",
     "metadata": {},
     "outputs": [],
     "prompt_number": 8
    },
    {
     "cell_type": "code",
     "collapsed": false,
     "input": [
      "number_of_units = 60\n",
      "total_cost = number_of_units * price * (1 - discount) + 3 + additional_shipping * (number_of_units - 1)\n",
      "total_cost"
     ],
     "language": "python",
     "metadata": {},
     "outputs": [
      {
       "metadata": {},
       "output_type": "pyout",
       "prompt_number": 9,
       "text": [
        "945.4499999999999"
       ]
      }
     ],
     "prompt_number": 9
    },
    {
     "cell_type": "code",
     "collapsed": false,
     "input": [
      "number_of_units = 60\n",
      "subtotal = number_of_units * price * (1 - discount)\n",
      "print(subtotal)\n",
      "shipping = 3 + additional_shipping * (number_of_units - 1)\n",
      "print(shipping)\n",
      "total_cost = subtotal + shipping\n",
      "print(total_cost)"
     ],
     "language": "python",
     "metadata": {},
     "outputs": [
      {
       "output_type": "stream",
       "stream": "stdout",
       "text": [
        "898.1999999999999\n",
        "47.25\n",
        "945.4499999999999\n"
       ]
      }
     ],
     "prompt_number": 10
    },
    {
     "cell_type": "heading",
     "level": 2,
     "metadata": {},
     "source": [
      "Another way"
     ]
    },
    {
     "cell_type": "code",
     "collapsed": false,
     "input": [
      "price = 2495\n",
      "discount = 0.40\n",
      "base_shipping = 300\n",
      "additional_shipping = 75\n",
      "\n",
      "number_of_units = 60\n",
      "subtotal = number_of_units * price * (1 - discount)\n",
      "print(subtotal)\n",
      "shipping = base_shipping + additional_shipping * (number_of_units - 1)\n",
      "print(shipping)\n",
      "total_cost = subtotal + shipping\n",
      "print(total_cost / 100)"
     ],
     "language": "python",
     "metadata": {},
     "outputs": [
      {
       "output_type": "stream",
       "stream": "stdout",
       "text": [
        "89820.0\n",
        "4725\n",
        "945.45\n"
       ]
      }
     ],
     "prompt_number": 12
    },
    {
     "cell_type": "code",
     "collapsed": false,
     "input": [],
     "language": "python",
     "metadata": {},
     "outputs": []
    }
   ],
   "metadata": {}
  }
 ]
}