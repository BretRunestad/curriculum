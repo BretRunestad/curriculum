{
 "metadata": {
  "name": "",
  "signature": "sha256:a07e70e1c53eb92f2cee1eabc1a61fd33de19546976690899df66fcebd885f39"
 },
 "nbformat": 3,
 "nbformat_minor": 0,
 "worksheets": [
  {
   "cells": [
    {
     "cell_type": "markdown",
     "metadata": {},
     "source": [
      "# Proper naming of things\n",
      "\n",
      "There are two ways to write names in Python:\n",
      "\n",
      "* CamelCase\n",
      "* snake_case\n",
      "\n",
      "Class names are in CamelCase. CamelCase has no underscores ever.\n",
      "\n",
      "Functions, methods, modules, file names, and variables are in snake_case. snake_case has no capital letters ever.\n",
      "\n",
      "## Private attributes and methods\n",
      "\n",
      "Private attributes and methods should start with one and only one underscore, and no trailing underscores. I have led you wrong here. My apologies.\n",
      "\n",
      "```py\n",
      "class Deck:\n",
      "    def __init__(self):\n",
      "        self._cards = [] # GOOD\n",
      "```"
     ]
    },
    {
     "cell_type": "markdown",
     "metadata": {},
     "source": [
      "# __init__.py\n",
      "\n",
      "What is `__init__.py`?\n",
      "\n",
      "Files named `__init__.py` are used to mark directories on disk as Python package directories. These files are normally empty, but can be used to set up variables, or hold convenience functions.\n",
      "\n",
      "Put one of these in every Python package directory. If you do this, you won't need to set `PYTHONPATH`. Again, my bad on this one."
     ]
    },
    {
     "cell_type": "markdown",
     "metadata": {},
     "source": [
      "# Python Packages\n",
      "\n",
      "[Read this article](http://blog.habnab.it/blog/2013/07/21/python-packages-and-you/)."
     ]
    },
    {
     "cell_type": "heading",
     "level": 1,
     "metadata": {},
     "source": [
      "Decorators"
     ]
    },
    {
     "cell_type": "code",
     "collapsed": false,
     "input": [
      "class Card:\n",
      "    def __init__(self, rank, suit):\n",
      "        self.rank = rank\n",
      "        self.suit = suit\n",
      "        \n",
      "    def value(self):\n",
      "        if self.rank in [\"K\", \"Q\", \"J\"]:\n",
      "            return 10\n",
      "        elif self.rank == \"A\":\n",
      "            return 1\n",
      "        else:\n",
      "            return int(self.rank)"
     ],
     "language": "python",
     "metadata": {},
     "outputs": [],
     "prompt_number": 1
    },
    {
     "cell_type": "code",
     "collapsed": false,
     "input": [
      "nine = Card(\"9\", \"Hearts\")\n",
      "nine.value()"
     ],
     "language": "python",
     "metadata": {},
     "outputs": [
      {
       "metadata": {},
       "output_type": "pyout",
       "prompt_number": 6,
       "text": [
        "9"
       ]
      }
     ],
     "prompt_number": 6
    },
    {
     "cell_type": "code",
     "collapsed": false,
     "input": [
      "class Card2:\n",
      "    def __init__(self, rank, suit):\n",
      "        self.rank = rank\n",
      "        self.suit = suit\n",
      "        \n",
      "    @property    \n",
      "    def value(self):\n",
      "        if self.rank in [\"K\", \"Q\", \"J\"]:\n",
      "            return 10\n",
      "        elif self.rank == \"A\":\n",
      "            return 1\n",
      "        else:\n",
      "            return int(self.rank)"
     ],
     "language": "python",
     "metadata": {},
     "outputs": [],
     "prompt_number": 7
    },
    {
     "cell_type": "code",
     "collapsed": false,
     "input": [
      "eight = Card2(\"8\", \"Diamonds\")\n",
      "eight.value"
     ],
     "language": "python",
     "metadata": {},
     "outputs": [
      {
       "metadata": {},
       "output_type": "pyout",
       "prompt_number": 8,
       "text": [
        "8"
       ]
      }
     ],
     "prompt_number": 8
    },
    {
     "cell_type": "code",
     "collapsed": false,
     "input": [
      "import functools\n",
      "\n",
      "def debug(fn):\n",
      "    @functools.wraps(fn)\n",
      "    def wrapper(*args, **kwargs):\n",
      "        print(\"Calling\", fn.__name__)\n",
      "        print(\"args:\", args)\n",
      "        print(\"kwargs:\", kwargs)\n",
      "        retval = fn(*args, **kwargs)\n",
      "        print(\"retval:\", retval)\n",
      "        return retval\n",
      "    return wrapper\n",
      "\n",
      "def factorial(n):\n",
      "    if n == 1:\n",
      "        return 1\n",
      "    else:\n",
      "        return n * factorial(n - 1)"
     ],
     "language": "python",
     "metadata": {},
     "outputs": [],
     "prompt_number": 13
    },
    {
     "cell_type": "code",
     "collapsed": false,
     "input": [
      "factorial(5)"
     ],
     "language": "python",
     "metadata": {},
     "outputs": [
      {
       "metadata": {},
       "output_type": "pyout",
       "prompt_number": 14,
       "text": [
        "120"
       ]
      }
     ],
     "prompt_number": 14
    },
    {
     "cell_type": "code",
     "collapsed": false,
     "input": [
      "@debug\n",
      "def factorial2(n):\n",
      "    if n == 1:\n",
      "        return 1\n",
      "    else:\n",
      "        return n * factorial2(n - 1)"
     ],
     "language": "python",
     "metadata": {},
     "outputs": [],
     "prompt_number": 15
    },
    {
     "cell_type": "code",
     "collapsed": false,
     "input": [
      "factorial2(5)"
     ],
     "language": "python",
     "metadata": {},
     "outputs": [
      {
       "output_type": "stream",
       "stream": "stdout",
       "text": [
        "Calling factorial2\n",
        "args: (5,)\n",
        "kwargs: {}\n",
        "Calling factorial2\n",
        "args: (4,)\n",
        "kwargs: {}\n",
        "Calling factorial2\n",
        "args: (3,)\n",
        "kwargs: {}\n",
        "Calling factorial2\n",
        "args: (2,)\n",
        "kwargs: {}\n",
        "Calling factorial2\n",
        "args: (1,)\n",
        "kwargs: {}\n",
        "retval: 1\n",
        "retval: 2\n",
        "retval: 6\n",
        "retval: 24\n",
        "retval: 120\n"
       ]
      },
      {
       "metadata": {},
       "output_type": "pyout",
       "prompt_number": 16,
       "text": [
        "120"
       ]
      }
     ],
     "prompt_number": 16
    },
    {
     "cell_type": "code",
     "collapsed": false,
     "input": [],
     "language": "python",
     "metadata": {},
     "outputs": []
    }
   ],
   "metadata": {}
  }
 ]
}