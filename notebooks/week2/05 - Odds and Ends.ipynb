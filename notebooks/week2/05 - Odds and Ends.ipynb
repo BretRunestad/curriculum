{
 "metadata": {
  "name": "",
  "signature": "sha256:9b9e1e4fccae981fe3c38aedc0f3999720eabda1d776b2278633809c0b873304"
 },
 "nbformat": 3,
 "nbformat_minor": 0,
 "worksheets": [
  {
   "cells": [
    {
     "cell_type": "markdown",
     "metadata": {},
     "source": [
      "# Proper naming of things\n",
      "\n",
      "There are two ways to write names in Python:\n",
      "\n",
      "* CamelCase\n",
      "* snake_case\n",
      "\n",
      "Class names are in CamelCase. CamelCase has no underscores ever.\n",
      "\n",
      "Functions, methods, modules, file names, and variables are in snake_case. snake_case has no capital letters ever.\n",
      "\n",
      "## Private attributes and methods\n",
      "\n",
      "Private attributes and methods should start with one and only one underscore, and no trailing underscores. I have led you wrong here. My apologies.\n",
      "\n",
      "```py\n",
      "class Deck:\n",
      "    def __init__(self):\n",
      "        self._cards = [] # GOOD\n",
      "```"
     ]
    },
    {
     "cell_type": "markdown",
     "metadata": {},
     "source": [
      "# __init__.py\n",
      "\n",
      "What is `__init__.py`?\n",
      "\n",
      "Files named `__init__.py` are used to mark directories on disk as Python package directories. These files are normally empty, but can be used to set up variables, or hold convenience functions.\n",
      "\n",
      "Put one of these in every Python package directory. If you do this, you won't need to set `PYTHONPATH`. Again, my bad on this one."
     ]
    },
    {
     "cell_type": "markdown",
     "metadata": {},
     "source": [
      "# Python Packages\n",
      "\n",
      "[Read this article](http://blog.habnab.it/blog/2013/07/21/python-packages-and-you/)."
     ]
    },
    {
     "cell_type": "heading",
     "level": 1,
     "metadata": {},
     "source": [
      "Decorators"
     ]
    },
    {
     "cell_type": "code",
     "collapsed": false,
     "input": [
      "class Card:\n",
      "    def __init__(self, rank, suit):\n",
      "        self.rank = rank\n",
      "        self.suit = suit\n",
      "        \n",
      "    def value(self):\n",
      "        if self.rank in [\"K\", \"Q\", \"J\"]:\n",
      "            return 10\n",
      "        elif self.rank == \"A\":\n",
      "            return 1\n",
      "        else:\n",
      "            return int(self.rank)"
     ],
     "language": "python",
     "metadata": {},
     "outputs": [],
     "prompt_number": 1
    },
    {
     "cell_type": "code",
     "collapsed": false,
     "input": [
      "nine = Card(\"9\", \"Hearts\")\n",
      "print(nine.rank)\n",
      "print(nine.suit)\n",
      "print(nine.value())"
     ],
     "language": "python",
     "metadata": {},
     "outputs": [
      {
       "output_type": "stream",
       "stream": "stdout",
       "text": [
        "9\n",
        "Hearts\n",
        "9\n"
       ]
      }
     ],
     "prompt_number": 17
    },
    {
     "cell_type": "code",
     "collapsed": false,
     "input": [
      "class Card2:\n",
      "    def __init__(self, rank, suit):\n",
      "        self.rank = rank\n",
      "        self.suit = suit\n",
      "        \n",
      "    @property    \n",
      "    def value(self):\n",
      "        if self.rank in [\"K\", \"Q\", \"J\"]:\n",
      "            return 10\n",
      "        elif self.rank == \"A\":\n",
      "            return 1\n",
      "        else:\n",
      "            return int(self.rank)"
     ],
     "language": "python",
     "metadata": {},
     "outputs": [],
     "prompt_number": 7
    },
    {
     "cell_type": "code",
     "collapsed": false,
     "input": [
      "eight = Card2(\"8\", \"Diamonds\")\n",
      "eight.value"
     ],
     "language": "python",
     "metadata": {},
     "outputs": [
      {
       "metadata": {},
       "output_type": "pyout",
       "prompt_number": 8,
       "text": [
        "8"
       ]
      }
     ],
     "prompt_number": 8
    },
    {
     "cell_type": "code",
     "collapsed": false,
     "input": [
      "eight.value = 9"
     ],
     "language": "python",
     "metadata": {},
     "outputs": [
      {
       "ename": "AttributeError",
       "evalue": "can't set attribute",
       "output_type": "pyerr",
       "traceback": [
        "\u001b[0;31m---------------------------------------------------------------------------\u001b[0m\n\u001b[0;31mAttributeError\u001b[0m                            Traceback (most recent call last)",
        "\u001b[0;32m<ipython-input-18-a47ffd62f7db>\u001b[0m in \u001b[0;36m<module>\u001b[0;34m()\u001b[0m\n\u001b[0;32m----> 1\u001b[0;31m \u001b[0meight\u001b[0m\u001b[0;34m.\u001b[0m\u001b[0mvalue\u001b[0m \u001b[0;34m=\u001b[0m \u001b[0;36m9\u001b[0m\u001b[0;34m\u001b[0m\u001b[0m\n\u001b[0m",
        "\u001b[0;31mAttributeError\u001b[0m: can't set attribute"
       ]
      }
     ],
     "prompt_number": 18
    },
    {
     "cell_type": "code",
     "collapsed": false,
     "input": [
      "import functools\n",
      "\n",
      "def debug(fn):\n",
      "    @functools.wraps(fn)\n",
      "    def wrapper(*args, **kwargs):\n",
      "        print(\"Calling\", fn.__name__)\n",
      "        print(\"args:\", args)\n",
      "        print(\"kwargs:\", kwargs)\n",
      "        retval = fn(*args, **kwargs)\n",
      "        print(\"retval:\", retval)\n",
      "        return retval\n",
      "    return wrapper\n",
      "\n",
      "def factorial(n):\n",
      "    if n == 1:\n",
      "        return 1\n",
      "    else:\n",
      "        return n * factorial(n - 1)"
     ],
     "language": "python",
     "metadata": {},
     "outputs": [],
     "prompt_number": 13
    },
    {
     "cell_type": "code",
     "collapsed": false,
     "input": [
      "factorial(5)"
     ],
     "language": "python",
     "metadata": {},
     "outputs": [
      {
       "metadata": {},
       "output_type": "pyout",
       "prompt_number": 14,
       "text": [
        "120"
       ]
      }
     ],
     "prompt_number": 14
    },
    {
     "cell_type": "code",
     "collapsed": false,
     "input": [
      "@debug\n",
      "def factorial2(n):\n",
      "    if n == 1:\n",
      "        return 1\n",
      "    else:\n",
      "        return n * factorial2(n - 1)"
     ],
     "language": "python",
     "metadata": {},
     "outputs": [],
     "prompt_number": 15
    },
    {
     "cell_type": "code",
     "collapsed": false,
     "input": [
      "factorial2(5)"
     ],
     "language": "python",
     "metadata": {},
     "outputs": [
      {
       "output_type": "stream",
       "stream": "stdout",
       "text": [
        "Calling factorial2\n",
        "args: (5,)\n",
        "kwargs: {}\n",
        "Calling factorial2\n",
        "args: (4,)\n",
        "kwargs: {}\n",
        "Calling factorial2\n",
        "args: (3,)\n",
        "kwargs: {}\n",
        "Calling factorial2\n",
        "args: (2,)\n",
        "kwargs: {}\n",
        "Calling factorial2\n",
        "args: (1,)\n",
        "kwargs: {}\n",
        "retval: 1\n",
        "retval: 2\n",
        "retval: 6\n",
        "retval: 24\n",
        "retval: 120\n"
       ]
      },
      {
       "metadata": {},
       "output_type": "pyout",
       "prompt_number": 16,
       "text": [
        "120"
       ]
      }
     ],
     "prompt_number": 16
    },
    {
     "cell_type": "heading",
     "level": 1,
     "metadata": {},
     "source": [
      "kwargs"
     ]
    },
    {
     "cell_type": "code",
     "collapsed": false,
     "input": [
      "def print_table(**kwargs):\n",
      "    \"\"\"Prints a set of keyword arguments as a table.\"\"\"\n",
      "    key_len = max([len(key) for key in kwargs.keys()])\n",
      "    for key, value in kwargs.items():\n",
      "        print(key.ljust(key_len), value)\n",
      "    "
     ],
     "language": "python",
     "metadata": {},
     "outputs": [],
     "prompt_number": 19
    },
    {
     "cell_type": "code",
     "collapsed": false,
     "input": [
      "print_table(clinton=\"A\", bret=\"A\", alan=\"B\", jorgenheimer=\"C\")"
     ],
     "language": "python",
     "metadata": {},
     "outputs": [
      {
       "output_type": "stream",
       "stream": "stdout",
       "text": [
        "alan         B\n",
        "jorgenheimer C\n",
        "clinton      A\n",
        "bret         A\n"
       ]
      }
     ],
     "prompt_number": 20
    },
    {
     "cell_type": "code",
     "collapsed": false,
     "input": [
      "locals()['print_table']"
     ],
     "language": "python",
     "metadata": {},
     "outputs": [
      {
       "metadata": {},
       "output_type": "pyout",
       "prompt_number": 22,
       "text": [
        "<function __main__.print_table>"
       ]
      }
     ],
     "prompt_number": 22
    },
    {
     "cell_type": "code",
     "collapsed": false,
     "input": [],
     "language": "python",
     "metadata": {},
     "outputs": []
    }
   ],
   "metadata": {}
  }
 ]
}