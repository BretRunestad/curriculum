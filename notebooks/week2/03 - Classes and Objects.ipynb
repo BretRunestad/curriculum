{
 "metadata": {
  "name": "",
  "signature": "sha256:3dbb5447829962814d0dba32080fd60a00e381e276c6ae4e5037000af6b4e885"
 },
 "nbformat": 3,
 "nbformat_minor": 0,
 "worksheets": [
  {
   "cells": [
    {
     "cell_type": "code",
     "collapsed": false,
     "input": [
      "import math"
     ],
     "language": "python",
     "metadata": {},
     "outputs": [],
     "prompt_number": 2
    },
    {
     "cell_type": "code",
     "collapsed": false,
     "input": [
      "%pylab inline"
     ],
     "language": "python",
     "metadata": {},
     "outputs": [
      {
       "output_type": "stream",
       "stream": "stdout",
       "text": [
        "Populating the interactive namespace from numpy and matplotlib\n"
       ]
      }
     ],
     "prompt_number": 3
    },
    {
     "cell_type": "markdown",
     "metadata": {},
     "source": [
      "We have been using objects since we began with Python, since everything is an object."
     ]
    },
    {
     "cell_type": "code",
     "collapsed": false,
     "input": [
      "a_number = 1\n",
      "a_string = \"Hello!\"\n",
      "a_list = [\"a\", \"b\"]\n",
      "a_dict = {\"A\": 1}\n",
      "a_set = {1, 2, 3}\n",
      "def a_function(x):\n",
      "    return x\n",
      "\n",
      "print(type(a_number))\n",
      "print(type(a_string))\n",
      "print(type(a_list))\n",
      "print(type(a_dict))\n",
      "print(type(a_set))\n",
      "print(type(a_function))"
     ],
     "language": "python",
     "metadata": {},
     "outputs": [
      {
       "output_type": "stream",
       "stream": "stdout",
       "text": [
        "<class 'int'>\n",
        "<class 'str'>\n",
        "<class 'list'>\n",
        "<class 'dict'>\n",
        "<class 'set'>\n",
        "<class 'function'>\n"
       ]
      }
     ],
     "prompt_number": 4
    },
    {
     "cell_type": "markdown",
     "metadata": {},
     "source": [
      "Note that each one of those outputs has the word `class`. A _class_ is the type of an object, and a blueprint for how it works.\n",
      "\n",
      "We can use `dir` to see all the methods of an object."
     ]
    },
    {
     "cell_type": "code",
     "collapsed": false,
     "input": [
      "dir(a_set)"
     ],
     "language": "python",
     "metadata": {},
     "outputs": [
      {
       "metadata": {},
       "output_type": "pyout",
       "prompt_number": 5,
       "text": [
        "['__and__',\n",
        " '__class__',\n",
        " '__contains__',\n",
        " '__delattr__',\n",
        " '__dir__',\n",
        " '__doc__',\n",
        " '__eq__',\n",
        " '__format__',\n",
        " '__ge__',\n",
        " '__getattribute__',\n",
        " '__gt__',\n",
        " '__hash__',\n",
        " '__iand__',\n",
        " '__init__',\n",
        " '__ior__',\n",
        " '__isub__',\n",
        " '__iter__',\n",
        " '__ixor__',\n",
        " '__le__',\n",
        " '__len__',\n",
        " '__lt__',\n",
        " '__ne__',\n",
        " '__new__',\n",
        " '__or__',\n",
        " '__rand__',\n",
        " '__reduce__',\n",
        " '__reduce_ex__',\n",
        " '__repr__',\n",
        " '__ror__',\n",
        " '__rsub__',\n",
        " '__rxor__',\n",
        " '__setattr__',\n",
        " '__sizeof__',\n",
        " '__str__',\n",
        " '__sub__',\n",
        " '__subclasshook__',\n",
        " '__xor__',\n",
        " 'add',\n",
        " 'clear',\n",
        " 'copy',\n",
        " 'difference',\n",
        " 'difference_update',\n",
        " 'discard',\n",
        " 'intersection',\n",
        " 'intersection_update',\n",
        " 'isdisjoint',\n",
        " 'issubset',\n",
        " 'issuperset',\n",
        " 'pop',\n",
        " 'remove',\n",
        " 'symmetric_difference',\n",
        " 'symmetric_difference_update',\n",
        " 'union',\n",
        " 'update']"
       ]
      }
     ],
     "prompt_number": 5
    },
    {
     "cell_type": "markdown",
     "metadata": {},
     "source": [
      "All the methods with `__` in front of them are _private methods_. Nothing prevents you from calling them, but they aren't meant for public use."
     ]
    },
    {
     "cell_type": "heading",
     "level": 2,
     "metadata": {},
     "source": [
      "Creating your own classes"
     ]
    },
    {
     "cell_type": "markdown",
     "metadata": {},
     "source": [
      "We can create our own classes for use. So far, we haven't needed them. So, when do you need classes?\n",
      "\n",
      "Classes are useful because objects contain both _state_ and _behavior_. When your behavior is coupled to your state, a class can be useful.\n",
      "\n",
      "Note that **any code written with classes can be written without them**. Sometimes it's easier to go with classes, though.\n",
      "\n",
      "How do we write a class?"
     ]
    },
    {
     "cell_type": "code",
     "collapsed": false,
     "input": [
      "# Name of object class.\n",
      "class Person:\n",
      "    \n",
      "    # Sets up the initial state of the object.\n",
      "    # Note the initial argument of _self_.\n",
      "    def __init__(self, name):\n",
      "        self.name = name\n",
      "        \n",
      "    # Adds behavior.\n",
      "    # Note the initial argument of _self_.    \n",
      "    def greet(self):\n",
      "        print(\"Hello, my name is {name}. It is nice to meet you!\".format(name=self.name))"
     ],
     "language": "python",
     "metadata": {},
     "outputs": [],
     "prompt_number": 6
    },
    {
     "cell_type": "code",
     "collapsed": false,
     "input": [
      "kendall = Person(\"Kendall\")\n",
      "kendall.greet()"
     ],
     "language": "python",
     "metadata": {},
     "outputs": [
      {
       "output_type": "stream",
       "stream": "stdout",
       "text": [
        "Hello, my name is Kendall. It is nice to meet you!\n"
       ]
      }
     ],
     "prompt_number": 7
    },
    {
     "cell_type": "code",
     "collapsed": false,
     "input": [
      "class Clicker:\n",
      "    \"\"\"Counts up from 0 (or the initial count) every time you call .click().\"\"\"\n",
      "    \n",
      "    def __init__(self, initial_count=0):\n",
      "        self.count = initial_count\n",
      "        \n",
      "    def click(self):\n",
      "        self.count += 1"
     ],
     "language": "python",
     "metadata": {},
     "outputs": [],
     "prompt_number": 8
    },
    {
     "cell_type": "code",
     "collapsed": false,
     "input": [
      "clicker = Clicker()\n",
      "\n",
      "# I can get attributes out of my objects.\n",
      "clicker.count"
     ],
     "language": "python",
     "metadata": {},
     "outputs": [
      {
       "metadata": {},
       "output_type": "pyout",
       "prompt_number": 39,
       "text": [
        "0"
       ]
      }
     ],
     "prompt_number": 39
    },
    {
     "cell_type": "markdown",
     "metadata": {},
     "source": [
      "Note above that when I use an attribute, there's no parentheses.\n",
      "\n",
      "```py\n",
      "object.method()\n",
      "object.attribute\n",
      "```"
     ]
    },
    {
     "cell_type": "code",
     "collapsed": false,
     "input": [
      "for _ in range(5):\n",
      "    clicker.click()\n",
      "    \n",
      "clicker.count"
     ],
     "language": "python",
     "metadata": {},
     "outputs": [
      {
       "metadata": {},
       "output_type": "pyout",
       "prompt_number": 10,
       "text": [
        "5"
       ]
      }
     ],
     "prompt_number": 10
    },
    {
     "cell_type": "markdown",
     "metadata": {},
     "source": [
      "Classes can have as many methods as you need."
     ]
    },
    {
     "cell_type": "code",
     "collapsed": false,
     "input": [
      "class Point:\n",
      "    \"\"\"A coordinate on a Cartesian plane.\"\"\"\n",
      "    \n",
      "    def __init__(self, x, y):\n",
      "        self.x = x\n",
      "        self.y = y\n",
      "        \n",
      "    def distance(self, other):\n",
      "        \"\"\"Calculate the distance between this point and another point.\"\"\"\n",
      "        return math.sqrt((self.x - other.x) ** 2 + (self.y - other.y) ** 2)\n",
      "    \n",
      "    def quadrant(self):\n",
      "        \"\"\"Calculates which quadrant of the Cartesian plane this point is in.\n",
      "        \n",
      "        Crude diagram:\n",
      "        \n",
      "          4  |  1\n",
      "             |\n",
      "        -----------\n",
      "             |\n",
      "          3  |  2\n",
      "          \n",
      "        For purposes of this calculation, zero counts as a positive number.\n",
      "        \"\"\"\n",
      "        if x > 0 and y > 0:\n",
      "            return 1\n",
      "        elif x > 0:\n",
      "            return 2\n",
      "        elif y < 0:\n",
      "            return 3\n",
      "        else:\n",
      "            return 4\n",
      "        \n",
      "    def rotate(self, quarters=1):\n",
      "        \"\"\"Rotate the point around the center for some number of quarter turns.\"\"\"\n",
      "        if quarters is 1:\n",
      "            return Point(self.y, -self.x)\n",
      "        else:\n",
      "            return Point(self.y, -self.x).rotate(quarters - 1)\n",
      "    \n",
      "    def __str__(self):\n",
      "        \"\"\"String representation of a point.\"\"\"\n",
      "        return \"Point({}, {})\".format(self.x, self.y)\n",
      "    \n",
      "    def __repr__(self):\n",
      "        \"\"\"Representation by Python output.\"\"\"\n",
      "        return self.__str__()"
     ],
     "language": "python",
     "metadata": {},
     "outputs": [],
     "prompt_number": 11
    },
    {
     "cell_type": "code",
     "collapsed": false,
     "input": [
      "p1 = Point(2, 3)"
     ],
     "language": "python",
     "metadata": {},
     "outputs": [],
     "prompt_number": 12
    },
    {
     "cell_type": "code",
     "collapsed": false,
     "input": [
      "p1.rotate()"
     ],
     "language": "python",
     "metadata": {},
     "outputs": [
      {
       "metadata": {},
       "output_type": "pyout",
       "prompt_number": 13,
       "text": [
        "Point(3, -2)"
       ]
      }
     ],
     "prompt_number": 13
    },
    {
     "cell_type": "code",
     "collapsed": false,
     "input": [
      "p1.rotate(2)"
     ],
     "language": "python",
     "metadata": {},
     "outputs": [
      {
       "metadata": {},
       "output_type": "pyout",
       "prompt_number": 14,
       "text": [
        "Point(-2, -3)"
       ]
      }
     ],
     "prompt_number": 14
    },
    {
     "cell_type": "code",
     "collapsed": false,
     "input": [
      "p1.rotate(10)"
     ],
     "language": "python",
     "metadata": {},
     "outputs": [
      {
       "metadata": {},
       "output_type": "pyout",
       "prompt_number": 15,
       "text": [
        "Point(-2, -3)"
       ]
      }
     ],
     "prompt_number": 15
    },
    {
     "cell_type": "markdown",
     "metadata": {},
     "source": [
      "Generally, classes interact with each other."
     ]
    },
    {
     "cell_type": "code",
     "collapsed": false,
     "input": [
      "class LineSegment:\n",
      "    def __init__(self, point1, point2):\n",
      "        self.p1 = point1\n",
      "        self.p2 = point2\n",
      "        \n",
      "    def slope(self):\n",
      "        \"\"\"Find the slope of this segment on the plane.\"\"\"\n",
      "        return (self.p1.y - self.p2.y) / (self.p1.x - self.p2.x)\n",
      "    \n",
      "    def midpoint(self):\n",
      "        \"\"\"Find the point in the middle of this segment.\"\"\"\n",
      "        x = (self.p1.x + self.p2.x) / 2\n",
      "        y = (self.p1.y + self.p2.y) / 2\n",
      "        return Point(x, y)\n",
      "    \n",
      "    def rotate(self, quarters=1):\n",
      "        \"\"\"Rotate the segment around the center for some number of quarter turns.\"\"\"\n",
      "        return LineSegment(self.p1.rotate(quarters), self.p2.rotate(quarters))\n",
      "    \n",
      "    def __repr__(self):\n",
      "        return \"LineSegment({}, {})\".format(self.p1, self.p2)\n"
     ],
     "language": "python",
     "metadata": {},
     "outputs": [],
     "prompt_number": 16
    },
    {
     "cell_type": "code",
     "collapsed": false,
     "input": [
      "seg = LineSegment(Point(-3, 0.5), Point(2, 1))\n",
      "print(seg)"
     ],
     "language": "python",
     "metadata": {},
     "outputs": [
      {
       "output_type": "stream",
       "stream": "stdout",
       "text": [
        "LineSegment(Point(-3, 0.5), Point(2, 1))\n"
       ]
      }
     ],
     "prompt_number": 17
    },
    {
     "cell_type": "code",
     "collapsed": false,
     "input": [
      "seg.midpoint()"
     ],
     "language": "python",
     "metadata": {},
     "outputs": [
      {
       "metadata": {},
       "output_type": "pyout",
       "prompt_number": 18,
       "text": [
        "Point(-0.5, 0.75)"
       ]
      }
     ],
     "prompt_number": 18
    },
    {
     "cell_type": "code",
     "collapsed": false,
     "input": [
      "seg.rotate()"
     ],
     "language": "python",
     "metadata": {},
     "outputs": [
      {
       "metadata": {},
       "output_type": "pyout",
       "prompt_number": 19,
       "text": [
        "LineSegment(Point(0.5, 3), Point(1, -2))"
       ]
      }
     ],
     "prompt_number": 19
    },
    {
     "cell_type": "code",
     "collapsed": false,
     "input": [
      "plt.axis([-4, 4, -4, 4])\n",
      "plt.plot([-5, 5], [0, 0], '--k')\n",
      "plt.plot([0, 0], [-5, 5], '--k')\n",
      "seg = seg.rotate()\n",
      "plt.plot([seg.p1.x, seg.p2.x], [seg.p1.y, seg.p2.y], '-b')\n",
      "seg = seg.rotate()\n",
      "plt.plot([seg.p1.x, seg.p2.x], [seg.p1.y, seg.p2.y], '-b')\n",
      "seg = seg.rotate()\n",
      "plt.plot([seg.p1.x, seg.p2.x], [seg.p1.y, seg.p2.y], '-b')\n",
      "seg = seg.rotate()\n",
      "plt.plot([seg.p1.x, seg.p2.x], [seg.p1.y, seg.p2.y], '-b')"
     ],
     "language": "python",
     "metadata": {},
     "outputs": [
      {
       "metadata": {},
       "output_type": "pyout",
       "prompt_number": 38,
       "text": [
        "[<matplotlib.lines.Line2D at 0x1072242e8>]"
       ]
      },
      {
       "metadata": {},
       "output_type": "display_data",
       "png": "[encoded data removed]",
       "text": [
        "<matplotlib.figure.Figure at 0x1071231d0>"
       ]
      }
     ],
     "prompt_number": 38
    },
    {
     "cell_type": "heading",
     "level": 2,
     "metadata": {},
     "source": [
      "Inheritance (here be dragons)"
     ]
    },
    {
     "cell_type": "markdown",
     "metadata": {},
     "source": [
      "Inheritance lets you create _subclasses_: classes that inherit all the behavior of their parent class, but can add or override that.\n",
      "\n",
      "Inheritance is rarely the right answer for objects, but every once in a while it makes sense."
     ]
    },
    {
     "cell_type": "code",
     "collapsed": false,
     "input": [
      "# A set of classes for planning a conference.\n",
      "\n",
      "class Attendee:\n",
      "    def __init__(self, name, email):\n",
      "        self.name = name\n",
      "        self.email = email\n",
      "        self.checked_in = False\n",
      "        \n",
      "    def badge_text(self):\n",
      "        return self.name\n",
      "    \n",
      "    def check_in(self):\n",
      "        self.checked_in = True\n",
      "        \n",
      "class Talk:\n",
      "    def __init__(self, name):\n",
      "        self.name = name\n",
      "        \n",
      "class Speaker(Attendee):\n",
      "    def __init__(self, name, email, talks):\n",
      "        super().__init__(name, email)\n",
      "        self.talks = talks\n",
      "        \n",
      "    def badge_text(self):\n",
      "        return \"\\n\".join([self.name, \"Speaker\"])\n",
      "        \n",
      "class Vendor(Attendee):\n",
      "    def __init__(self, name, email, company):\n",
      "        super().__init__(name, email)\n",
      "        self.company = company\n",
      "        \n",
      "    def badge_text(self):\n",
      "        return \"\\n\".join([self.name, self.company])"
     ],
     "language": "python",
     "metadata": {},
     "outputs": [],
     "prompt_number": 43
    },
    {
     "cell_type": "code",
     "collapsed": false,
     "input": [
      "scout = Attendee(\"Scout\", \"scout@example.org\")\n",
      "cadence = Speaker(\"Cadence\", \"cadence@example.org\", talks=[Talk(\"How to Make Objects\")])\n",
      "avery = Vendor(\"Avery\", \"avery@example.org\", company=\"Dunster\")"
     ],
     "language": "python",
     "metadata": {},
     "outputs": [],
     "prompt_number": 44
    },
    {
     "cell_type": "code",
     "collapsed": false,
     "input": [
      "print(scout.badge_text())\n",
      "print(\"---\")\n",
      "print(cadence.badge_text())\n",
      "print(\"---\")\n",
      "print(avery.badge_text())"
     ],
     "language": "python",
     "metadata": {},
     "outputs": [
      {
       "output_type": "stream",
       "stream": "stdout",
       "text": [
        "Scout\n",
        "---\n",
        "Cadence\n",
        "Speaker\n",
        "---\n",
        "Avery\n",
        "Dunster\n"
       ]
      }
     ],
     "prompt_number": 46
    },
    {
     "cell_type": "markdown",
     "metadata": {},
     "source": [
      "Multiple inheritance also exists, where you can inherit from several classes. In my opinion, this is rarely useful."
     ]
    }
   ],
   "metadata": {}
  }
 ]
}