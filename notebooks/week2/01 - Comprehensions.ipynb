{
 "metadata": {
  "name": "",
  "signature": "sha256:cdb4de679044bce5717db0cdd2837529436bd4c2ab15f3586c6057cd31f046c2"
 },
 "nbformat": 3,
 "nbformat_minor": 0,
 "worksheets": [
  {
   "cells": [
    {
     "cell_type": "code",
     "collapsed": false,
     "input": [
      "import math\n",
      "import random"
     ],
     "language": "python",
     "metadata": {},
     "outputs": [],
     "prompt_number": 15
    },
    {
     "cell_type": "heading",
     "level": 2,
     "metadata": {},
     "source": [
      "List comprehensions"
     ]
    },
    {
     "cell_type": "markdown",
     "metadata": {},
     "source": [
      "List comprehensions allow us to _transform_ an iterable's values through another function or _filter_ those values, returning a list."
     ]
    },
    {
     "cell_type": "code",
     "collapsed": false,
     "input": [
      "# Powers of 2\n",
      "[pow(2, x) for x in range(10)]"
     ],
     "language": "python",
     "metadata": {},
     "outputs": [
      {
       "metadata": {},
       "output_type": "pyout",
       "prompt_number": 8,
       "text": [
        "[1, 2, 4, 8, 16, 32, 64, 128, 256, 512]"
       ]
      }
     ],
     "prompt_number": 8
    },
    {
     "cell_type": "code",
     "collapsed": false,
     "input": [
      "# Unicode values for letters in a string\n",
      "[ord(char) for char in \"Hello world\"]"
     ],
     "language": "python",
     "metadata": {},
     "outputs": [
      {
       "metadata": {},
       "output_type": "pyout",
       "prompt_number": 9,
       "text": [
        "[72, 101, 108, 108, 111, 32, 119, 111, 114, 108, 100]"
       ]
      }
     ],
     "prompt_number": 9
    },
    {
     "cell_type": "code",
     "collapsed": false,
     "input": [
      "# 5 random numbers\n",
      "[random.random() for _ in range(5)]"
     ],
     "language": "python",
     "metadata": {},
     "outputs": [
      {
       "metadata": {},
       "output_type": "pyout",
       "prompt_number": 18,
       "text": [
        "[0.9126736745704176,\n",
        " 0.9581070479055531,\n",
        " 0.22297966264747215,\n",
        " 0.6220902431656155,\n",
        " 0.9792044521441896]"
       ]
      }
     ],
     "prompt_number": 18
    },
    {
     "cell_type": "code",
     "collapsed": false,
     "input": [
      "import math\n",
      "\n",
      "# All squares in the first 1000 numbers.\n",
      "squares = [x for x in range(1000) if math.sqrt(x).is_integer()]\n",
      "print(squares)"
     ],
     "language": "python",
     "metadata": {},
     "outputs": [
      {
       "output_type": "stream",
       "stream": "stdout",
       "text": [
        "[0, 1, 4, 9, 16, 25, 36, 49, 64, 81, 100, 121, 144, 169, 196, 225, 256, 289, 324, 361, 400, 441, 484, 529, 576, 625, 676, 729, 784, 841, 900, 961]\n"
       ]
      }
     ],
     "prompt_number": 14
    },
    {
     "cell_type": "code",
     "collapsed": false,
     "input": [
      "# Roll 6 dice, keep all 4 and above.\n",
      "[die for die in [random.randint(1,6) for _ in range(6)] if die >= 4]"
     ],
     "language": "python",
     "metadata": {},
     "outputs": [
      {
       "metadata": {},
       "output_type": "pyout",
       "prompt_number": 21,
       "text": [
        "[4, 4, 4, 6]"
       ]
      }
     ],
     "prompt_number": 21
    },
    {
     "cell_type": "heading",
     "level": 3,
     "metadata": {},
     "source": [
      "Advanced list comprehensions"
     ]
    },
    {
     "cell_type": "code",
     "collapsed": false,
     "input": [
      "# Transpose rows and columns using nested list comprehensions.\n",
      "matrix = [[1, 2, 3],\n",
      "          [4, 5, 6],\n",
      "          [7, 8, 9]]\n",
      "\n",
      "[[row[i] for row in matrix] for i in range(len(matrix[0]))]"
     ],
     "language": "python",
     "metadata": {},
     "outputs": [
      {
       "metadata": {},
       "output_type": "pyout",
       "prompt_number": 23,
       "text": [
        "[[1, 4, 7], [2, 5, 8], [3, 6, 9]]"
       ]
      }
     ],
     "prompt_number": 23
    },
    {
     "cell_type": "code",
     "collapsed": false,
     "input": [
      "# Get a cartesian product of multiple iterables.\n",
      "max_x = 5\n",
      "max_y = 5\n",
      "\n",
      "all_coordinates = [(x, y) for x in range(max_x + 1) for y in range(max_y + 1)]\n",
      "print(all_coordinates)"
     ],
     "language": "python",
     "metadata": {},
     "outputs": [
      {
       "output_type": "stream",
       "stream": "stdout",
       "text": [
        "[(0, 0), (0, 1), (0, 2), (0, 3), (0, 4), (0, 5), (1, 0), (1, 1), (1, 2), (1, 3), (1, 4), (1, 5), (2, 0), (2, 1), (2, 2), (2, 3), (2, 4), (2, 5), (3, 0), (3, 1), (3, 2), (3, 3), (3, 4), (3, 5), (4, 0), (4, 1), (4, 2), (4, 3), (4, 4), (4, 5), (5, 0), (5, 1), (5, 2), (5, 3), (5, 4), (5, 5)]\n"
       ]
      }
     ],
     "prompt_number": 29
    },
    {
     "cell_type": "code",
     "collapsed": false,
     "input": [
      "# All student pairings\n",
      "students = [\"Blake\", \"Justice\", \"Kai\", \"Rowan\"]\n",
      "possible_pairings = [(s1, s2) for s1 in students for s2 in students if s1 is not s2]\n",
      "print(possible_pairings)"
     ],
     "language": "python",
     "metadata": {},
     "outputs": [
      {
       "output_type": "stream",
       "stream": "stdout",
       "text": [
        "[('Blake', 'Justice'), ('Blake', 'Kai'), ('Blake', 'Rowan'), ('Justice', 'Blake'), ('Justice', 'Kai'), ('Justice', 'Rowan'), ('Kai', 'Blake'), ('Kai', 'Justice'), ('Kai', 'Rowan'), ('Rowan', 'Blake'), ('Rowan', 'Justice'), ('Rowan', 'Kai')]\n"
       ]
      }
     ],
     "prompt_number": 35
    },
    {
     "cell_type": "markdown",
     "metadata": {},
     "source": [
      "This isn't exactly what I want, but we'll come back to it."
     ]
    },
    {
     "cell_type": "markdown",
     "metadata": {},
     "source": [
      "**NOTE**: Show how to get the indexes of a letter in a word, like Ana's evil mystery word algorithm."
     ]
    },
    {
     "cell_type": "heading",
     "level": 2,
     "metadata": {},
     "source": [
      "Dictionary comprehensions"
     ]
    },
    {
     "cell_type": "markdown",
     "metadata": {},
     "source": [
      "Dictionary comprehensions work like list comprehensions, but create dictionaries."
     ]
    },
    {
     "cell_type": "code",
     "collapsed": false,
     "input": [
      "# Get a mapping of letters to Unicode values.\n",
      "\n",
      "{letter: ord(letter) for letter in \"abcdef\"}"
     ],
     "language": "python",
     "metadata": {},
     "outputs": [
      {
       "metadata": {},
       "output_type": "pyout",
       "prompt_number": 2,
       "text": [
        "{'d': 100, 'f': 102, 'c': 99, 'e': 101, 'a': 97, 'b': 98}"
       ]
      }
     ],
     "prompt_number": 2
    },
    {
     "cell_type": "code",
     "collapsed": false,
     "input": [
      "# Get a mapping of letters to their frequency.\n",
      "\n",
      "sentence = \"hello there pardner\"\n",
      "{letter: sentence.count(letter) for letter in sentence if letter is not \" \"}"
     ],
     "language": "python",
     "metadata": {},
     "outputs": [
      {
       "metadata": {},
       "output_type": "pyout",
       "prompt_number": 9,
       "text": [
        "{'l': 2,\n",
        " 't': 1,\n",
        " 'n': 1,\n",
        " 'r': 3,\n",
        " 'd': 1,\n",
        " 'p': 1,\n",
        " 'h': 2,\n",
        " 'e': 4,\n",
        " 'a': 1,\n",
        " 'o': 1}"
       ]
      }
     ],
     "prompt_number": 9
    },
    {
     "cell_type": "code",
     "collapsed": false,
     "input": [
      "# Map students to their grades\n",
      "\n",
      "students = [\"Marion\", \"Sawyer\", \"Hayden\"]\n",
      "test_scores = [[87, 91, 79], [92, 90, 85], [90, 93, 82]]\n",
      "\n",
      "{student: [test[idx] for test in test_scores] for (idx, student) in enumerate(students)}"
     ],
     "language": "python",
     "metadata": {},
     "outputs": [
      {
       "metadata": {},
       "output_type": "pyout",
       "prompt_number": 11,
       "text": [
        "{'Sawyer': [91, 90, 93], 'Hayden': [79, 85, 82], 'Marion': [87, 92, 90]}"
       ]
      }
     ],
     "prompt_number": 11
    },
    {
     "cell_type": "markdown",
     "metadata": {},
     "source": [
      "I find these less useful than list comprehensions, except for filtering dictionaries."
     ]
    },
    {
     "cell_type": "code",
     "collapsed": false,
     "input": [
      "open_hours = {\"Sunday\": (900, 1730), \"Monday\": tuple(), \"Tuesday\": (900, 2130), \"Wednesday\": (900, 2130)}\n",
      "{day_of_week: times for (day_of_week, times) in open_hours.items() if len(times) == 2}"
     ],
     "language": "python",
     "metadata": {},
     "outputs": [
      {
       "metadata": {},
       "output_type": "pyout",
       "prompt_number": 13,
       "text": [
        "{'Sunday': (900, 1730), 'Tuesday': (900, 2130), 'Wednesday': (900, 2130)}"
       ]
      }
     ],
     "prompt_number": 13
    },
    {
     "cell_type": "heading",
     "level": 2,
     "metadata": {},
     "source": [
      "Set comprehensions"
     ]
    },
    {
     "cell_type": "markdown",
     "metadata": {},
     "source": [
      "Sets are another type of collection we haven't discussed. They are _unordered_ collections of unique items. Each item must be _hashable_ -- that is, it can't be mutable, so lists and dictionaries are out. Numbers, strings, and tuples are in. Amazingly, sets are also out, as they're mutable, so no sets of sets!\n",
      "\n",
      "There's a function called `frozenset()` to make an immutable set, so you can nest them."
     ]
    },
    {
     "cell_type": "code",
     "collapsed": false,
     "input": [
      "# There can be only one (1).\n",
      "{1, 2, 3, 4, 1}"
     ],
     "language": "python",
     "metadata": {},
     "outputs": [
      {
       "metadata": {},
       "output_type": "pyout",
       "prompt_number": 17,
       "text": [
        "{1, 2, 3, 4}"
       ]
      }
     ],
     "prompt_number": 17
    },
    {
     "cell_type": "code",
     "collapsed": false,
     "input": [
      "# Unique letters\n",
      "{letter for letter in \"howdy there pardner\" if letter is not \" \"}"
     ],
     "language": "python",
     "metadata": {},
     "outputs": [
      {
       "metadata": {},
       "output_type": "pyout",
       "prompt_number": 18,
       "text": [
        "{'a', 'd', 'e', 'h', 'n', 'o', 'p', 'r', 't', 'w', 'y'}"
       ]
      }
     ],
     "prompt_number": 18
    },
    {
     "cell_type": "markdown",
     "metadata": {},
     "source": [
      "Let's solve that problem of getting unique student pairings now."
     ]
    },
    {
     "cell_type": "code",
     "collapsed": false,
     "input": [
      "# All student pairings\n",
      "students = [\"Blake\", \"Justice\", \"Kai\", \"Rowan\", \"Marion\"]\n",
      "possible_pairings = {frozenset([s1, s2]) for s1 in students for s2 in students if s1 is not s2}\n",
      "print(possible_pairings)"
     ],
     "language": "python",
     "metadata": {},
     "outputs": [
      {
       "output_type": "stream",
       "stream": "stdout",
       "text": [
        "{frozenset({'Kai', 'Blake'}), frozenset({'Justice', 'Rowan'}), frozenset({'Marion', 'Blake'}), frozenset({'Rowan', 'Blake'}), frozenset({'Justice', 'Kai'}), frozenset({'Justice', 'Blake'}), frozenset({'Kai', 'Rowan'}), frozenset({'Marion', 'Kai'}), frozenset({'Marion', 'Rowan'}), frozenset({'Justice', 'Marion'})}\n"
       ]
      }
     ],
     "prompt_number": 26
    },
    {
     "cell_type": "markdown",
     "metadata": {},
     "source": [
      "Why did we use `frozenset()`?"
     ]
    }
   ],
   "metadata": {}
  }
 ]
}