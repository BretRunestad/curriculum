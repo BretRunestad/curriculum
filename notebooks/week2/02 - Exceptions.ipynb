{
 "metadata": {
  "name": "",
  "signature": "sha256:6df9f040928d0ad8a6521107dc3787a40f6c4faf12a959a3fb1e96418d923ece"
 },
 "nbformat": 3,
 "nbformat_minor": 0,
 "worksheets": [
  {
   "cells": [
    {
     "cell_type": "heading",
     "level": 2,
     "metadata": {},
     "source": [
      "Testing exceptions"
     ]
    },
    {
     "cell_type": "code",
     "collapsed": false,
     "input": [],
     "language": "python",
     "metadata": {},
     "outputs": []
    }
   ],
   "metadata": {}
  }
 ]
}